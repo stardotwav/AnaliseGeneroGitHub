{
 "cells": [
  {
   "cell_type": "markdown",
   "id": "77a5091f",
   "metadata": {},
   "source": [
    "# ❀ Trabalho de Conclusão de Curso ❀\n",
    "\n",
    "**Tema:** Relevância Temática dos Comentários e Diversidade de Gênero em Projetos Open Source\n",
    "\n",
    "**Descrição:** Considerando a natureza colaborativa do desenvolvimento de software, as equipes podem ser formadas por pessoas de diversas culturas, idades, nacionalidades e gêneros, de forma que as equipes que possuem maior diversidade social podem aproveitar de informações mais amplas, experiências e ideias mais variadas e habilidades aprimoradas de resolução de problemas, tornando-se, portanto, mais eficazes. Porém, apesar de sabermos que a diversidade é benefíco durante o desenvolvimento de software, temos que a presença feminina é baixa, tanto em contribuições, quanto em número de membros. Visto isso, o trabalho aqui busca realizar um estudo que aponte questões sobre a participação feminina em tópicos de discussão, como as issues do GitHub e o fóruns de discussão do StackOverflow.\n",
   ]
  },
  {
   "cell_type": "code",
   "execution_count": 1,
   "id": "b4caaee6",
   "metadata": {},
   "outputs": [],
   "source": [
    "# Importando as Bibliotecas Necessárias\n",
    "import pandas as pd\n",
    "import seaborn as sns\n",
    "import matplotlib.pyplot as plt\n",
    "\n",
    "# Importando o Arquivo Usado\n",
    "dados = pd.read_csv('dadosGitHubComentarios.csv', index_col=None, header=0)\n",
    "dadosIssues = pd.read_csv('dadosGitHubIssues.csv', index_col=None, header=0)"
   ]
  },
  {
   "cell_type": "code",
   "execution_count": 2,
   "id": "ea731e8d",
   "metadata": {},
   "outputs": [],
   "source": [
    "# Após Analisado os Usuários que foram Classificados como None, Iremos Deixar o Gênero de cada Usuário que foi \n",
    "# possui identificar manualmente\n",
    "dados.loc[dados['AutorComentario'] == \"sfshaza2\", 'Genero'] = 'female'\n",
    "dados.loc[dados['AutorComentario'] == \"darshankawar\", 'Genero'] = 'male'\n",
    "dados.loc[dados['AutorComentario'] == \"kevmoo\", 'Genero'] = 'male'\n",
    "dados.loc[dados['AutorComentario'] == \"danagbemava-nc\", 'Genero'] = 'male'\n",
    "dados.loc[dados['AutorComentario'] == \"tachyons\", 'Genero'] = 'male'\n",
    "dados.loc[dados['AutorComentario'] == \"georgepalmer\", 'Genero'] = 'male'\n",
    "dados.loc[dados['AutorComentario'] == \"alexdunae\", 'Genero'] = 'male'\n",
    "dados.loc[dados['AutorComentario'] == \"niborg\", 'Genero'] = 'male'\n",
    "dados.loc[dados['AutorComentario'] == \"justin808\", 'Genero'] = 'male'\n",
    "dados.loc[dados['AutorComentario'] == \"victorlcampos\", 'Genero'] = 'male'\n",
    "dados.loc[dados['AutorComentario'] == \"kramerdog\", 'Genero'] = 'male'\n",
    "dados.loc[dados['AutorComentario'] == \"felixbuenemann\", 'Genero'] = 'male'\n",
    "dados.loc[dados['AutorComentario'] == \"grosser\", 'Genero'] = 'male'\n",
    "dados.loc[dados['AutorComentario'] == \"rafaelfranca\", 'Genero'] = 'male'\n",
    "dados.loc[dados['AutorComentario'] == \"marcandre\", 'Genero'] = 'male'\n",
    "dados.loc[dados['AutorComentario'] == \"LeeRenJie\", 'Genero'] = 'male'\n",
    "dados.loc[dados['AutorComentario'] == \"mcmire\", 'Genero'] = 'male'\n",
    "dados.loc[dados['AutorComentario'] == \"cguess\", 'Genero'] = 'male'\n",
    "dados.loc[dados['AutorComentario'] == \"anark\", 'Genero'] = 'male'\n",
    "dados.loc[dados['AutorComentario'] == \"vinceve\", 'Genero'] = 'male'\n",
    "dados.loc[dados['AutorComentario'] == \"oggy\", 'Genero'] = 'male'\n",
    "dados.loc[dados['AutorComentario'] == \"brenogazzola\", 'Genero'] = 'male'\n",
    "dados.loc[dados['AutorComentario'] == \"vladimirtemnikov\", 'Genero'] = 'male'\n",
    "dados.loc[dados['AutorComentario'] == \"deivid-rodriguez\", 'Genero'] = 'male'\n",
    "\n",
    "# Durante a Verificação Manual dos Usuários se pode notar que existiam alguns\n",
    "# Bots, dessa forma, foi criada em Gênero que identifica esse caso\n",
    "dados.loc[dados['AutorComentario'].str.contains('bot'), 'Genero'] = 'bot'"
   ]
  },
  {
   "cell_type": "code",
   "execution_count": 3,
   "id": "7d00b364",
   "metadata": {},
   "outputs": [],
   "source": [
    "dados.loc[dados['Genero'] == \"female\", 'Genero'] = 'Feminino'\n",
    "dados.loc[dados['Genero'] == \"male\", 'Genero'] = 'Masculino'\n",
    "dados.loc[dados['Genero'] == \"None\", 'Genero'] = 'Não Identificado'\n",
    "dados.loc[dados['Genero'] == \"bot\", 'Genero'] = 'Bots'\n",
    "\n",
    "dadosIssues.loc[dadosIssues['Genero'] == \"female\", 'Genero'] = 'Feminino'\n",
    "dadosIssues.loc[dadosIssues['Genero'] == \"male\", 'Genero'] = 'Masculino'\n",
    "dadosIssues.loc[dadosIssues['Genero'] == \"None\", 'Genero'] = 'Não Identificado'\n",
    "dadosIssues.loc[dadosIssues['Genero'] == \"bot\", 'Genero'] = 'Bots'"
   ]
  },
  {
   "cell_type": "code",
   "execution_count": 4,
   "id": "0b838802",
   "metadata": {},
   "outputs": [
    {
     "data": {
      "text/html": [
       "<div>\n",
       "<style scoped>\n",
       "    .dataframe tbody tr th:only-of-type {\n",
       "        vertical-align: middle;\n",
       "    }\n",
       "\n",
       "    .dataframe tbody tr th {\n",
       "        vertical-align: top;\n",
       "    }\n",
       "\n",
       "    .dataframe thead th {\n",
       "        text-align: right;\n",
       "    }\n",
       "</style>\n",
       "<table border=\"1\" class=\"dataframe\">\n",
       "  <thead>\n",
       "    <tr style=\"text-align: right;\">\n",
       "      <th></th>\n",
       "      <th>NumeroIssue</th>\n",
       "      <th>TituloIssue</th>\n",
       "      <th>DescricaoIssue</th>\n",
       "      <th>CriacaoIssue</th>\n",
       "      <th>NumeroComentario</th>\n",
       "      <th>Comentario</th>\n",
       "      <th>DataComentario</th>\n",
       "      <th>RelevanciaTematica</th>\n",
       "      <th>AutorComentario</th>\n",
       "      <th>Nome</th>\n",
       "      <th>Sobrenome</th>\n",
       "      <th>Reputacao</th>\n",
       "      <th>AnosPlataforma</th>\n",
       "      <th>Genero</th>\n",
       "    </tr>\n",
       "  </thead>\n",
       "  <tbody>\n",
       "    <tr>\n",
       "      <th>0</th>\n",
       "      <td>2126</td>\n",
       "      <td>Update dependency @types/node to v16</td>\n",
       "      <td>[![WhiteSource Renovate](https://app.renovateb...</td>\n",
       "      <td>2021-10-26T13:26:17Z</td>\n",
       "      <td>951954780</td>\n",
       "      <td># [Codecov](https://codecov.io/gh/mozilla/addo...</td>\n",
       "      <td>2021-10-26T13:43:54Z</td>\n",
       "      <td>0.088300</td>\n",
       "      <td>codecov[bot]</td>\n",
       "      <td>codecov[bot]</td>\n",
       "      <td></td>\n",
       "      <td>0</td>\n",
       "      <td>6</td>\n",
       "      <td>Bots</td>\n",
       "    </tr>\n",
       "    <tr>\n",
       "      <th>1</th>\n",
       "      <td>2126</td>\n",
       "      <td>Update dependency @types/node to v16</td>\n",
       "      <td>[![WhiteSource Renovate](https://app.renovateb...</td>\n",
       "      <td>2021-10-26T13:26:17Z</td>\n",
       "      <td>951965911</td>\n",
       "      <td>@willdurand I believe we are on node v14, so s...</td>\n",
       "      <td>2021-10-26T13:55:51Z</td>\n",
       "      <td>0.014058</td>\n",
       "      <td>bobsilverberg</td>\n",
       "      <td>Bob</td>\n",
       "      <td>Silverberg</td>\n",
       "      <td>75</td>\n",
       "      <td>13</td>\n",
       "      <td>Masculino</td>\n",
       "    </tr>\n",
       "    <tr>\n",
       "      <th>2</th>\n",
       "      <td>2126</td>\n",
       "      <td>Update dependency @types/node to v16</td>\n",
       "      <td>[![WhiteSource Renovate](https://app.renovateb...</td>\n",
       "      <td>2021-10-26T13:26:17Z</td>\n",
       "      <td>984926548</td>\n",
       "      <td>&gt; @willdurand I believe we are on node v14, so...</td>\n",
       "      <td>2021-12-02T19:16:52Z</td>\n",
       "      <td>0.029444</td>\n",
       "      <td>willdurand</td>\n",
       "      <td>William</td>\n",
       "      <td>Durand</td>\n",
       "      <td>1676</td>\n",
       "      <td>12</td>\n",
       "      <td>Masculino</td>\n",
       "    </tr>\n",
       "    <tr>\n",
       "      <th>3</th>\n",
       "      <td>2126</td>\n",
       "      <td>Update dependency @types/node to v16</td>\n",
       "      <td>[![WhiteSource Renovate](https://app.renovateb...</td>\n",
       "      <td>2021-10-26T13:26:17Z</td>\n",
       "      <td>984944808</td>\n",
       "      <td>&gt;&gt; @willdurand I believe we are on node v14, s...</td>\n",
       "      <td>2021-12-02T19:42:19Z</td>\n",
       "      <td>0.061814</td>\n",
       "      <td>bobsilverberg</td>\n",
       "      <td>Bob</td>\n",
       "      <td>Silverberg</td>\n",
       "      <td>75</td>\n",
       "      <td>13</td>\n",
       "      <td>Masculino</td>\n",
       "    </tr>\n",
       "    <tr>\n",
       "      <th>4</th>\n",
       "      <td>1897</td>\n",
       "      <td>[Review Tools] No Need to Process \"Known JS li...</td>\n",
       "      <td>Currently, the review tools processes and synt...</td>\n",
       "      <td>2021-03-19T12:06:10Z</td>\n",
       "      <td>802829620</td>\n",
       "      <td>Should this be an addons-code-manager issue, o...</td>\n",
       "      <td>2021-03-19T13:23:39Z</td>\n",
       "      <td>0.038175</td>\n",
       "      <td>bobsilverberg</td>\n",
       "      <td>Bob</td>\n",
       "      <td>Silverberg</td>\n",
       "      <td>75</td>\n",
       "      <td>13</td>\n",
       "      <td>Masculino</td>\n",
       "    </tr>\n",
       "    <tr>\n",
       "      <th>...</th>\n",
       "      <td>...</td>\n",
       "      <td>...</td>\n",
       "      <td>...</td>\n",
       "      <td>...</td>\n",
       "      <td>...</td>\n",
       "      <td>...</td>\n",
       "      <td>...</td>\n",
       "      <td>...</td>\n",
       "      <td>...</td>\n",
       "      <td>...</td>\n",
       "      <td>...</td>\n",
       "      <td>...</td>\n",
       "      <td>...</td>\n",
       "      <td>...</td>\n",
       "    </tr>\n",
       "    <tr>\n",
       "      <th>9146</th>\n",
       "      <td>330</td>\n",
       "      <td>Remove chat fragments and pagerview from Event...</td>\n",
       "      <td>EventChatFragment\\nTopicChatFragment\\n</td>\n",
       "      <td>2015-12-30T02:45:10Z</td>\n",
       "      <td>172167498</td>\n",
       "      <td>@shehbashahab lightning fast :zap: :facepunch: \\n</td>\n",
       "      <td>2016-01-16T07:04:16Z</td>\n",
       "      <td>0.000185</td>\n",
       "      <td>zassmin</td>\n",
       "      <td>zassmin</td>\n",
       "      <td></td>\n",
       "      <td>136</td>\n",
       "      <td>10</td>\n",
       "      <td>Masculino</td>\n",
       "    </tr>\n",
       "    <tr>\n",
       "      <th>9147</th>\n",
       "      <td>279</td>\n",
       "      <td>posts: when a user adds a new post, scroll to ...</td>\n",
       "      <td>- this requires passing the post back to the p...</td>\n",
       "      <td>2015-11-13T22:50:19Z</td>\n",
       "      <td>169553103</td>\n",
       "      <td>@RoyPuja noticing you are assigned. Are you ac...</td>\n",
       "      <td>2016-01-07T05:12:20Z</td>\n",
       "      <td>0.016483</td>\n",
       "      <td>zassmin</td>\n",
       "      <td>zassmin</td>\n",
       "      <td></td>\n",
       "      <td>136</td>\n",
       "      <td>10</td>\n",
       "      <td>Masculino</td>\n",
       "    </tr>\n",
       "    <tr>\n",
       "      <th>9148</th>\n",
       "      <td>279</td>\n",
       "      <td>posts: when a user adds a new post, scroll to ...</td>\n",
       "      <td>- this requires passing the post back to the p...</td>\n",
       "      <td>2015-11-13T22:50:19Z</td>\n",
       "      <td>169566773</td>\n",
       "      <td>Yes,I am.\\n</td>\n",
       "      <td>2016-01-07T06:27:17Z</td>\n",
       "      <td>0.000182</td>\n",
       "      <td>RoyPuja</td>\n",
       "      <td>Puja</td>\n",
       "      <td>Roy</td>\n",
       "      <td>4</td>\n",
       "      <td>7</td>\n",
       "      <td>Masculino</td>\n",
       "    </tr>\n",
       "    <tr>\n",
       "      <th>9149</th>\n",
       "      <td>279</td>\n",
       "      <td>posts: when a user adds a new post, scroll to ...</td>\n",
       "      <td>- this requires passing the post back to the p...</td>\n",
       "      <td>2015-11-13T22:50:19Z</td>\n",
       "      <td>170394129</td>\n",
       "      <td>This works for text posts.@zassmin,@shehbashah...</td>\n",
       "      <td>2016-01-10T21:09:59Z</td>\n",
       "      <td>0.024899</td>\n",
       "      <td>RoyPuja</td>\n",
       "      <td>Puja</td>\n",
       "      <td>Roy</td>\n",
       "      <td>4</td>\n",
       "      <td>7</td>\n",
       "      <td>Masculino</td>\n",
       "    </tr>\n",
       "    <tr>\n",
       "      <th>9150</th>\n",
       "      <td>279</td>\n",
       "      <td>posts: when a user adds a new post, scroll to ...</td>\n",
       "      <td>- this requires passing the post back to the p...</td>\n",
       "      <td>2015-11-13T22:50:19Z</td>\n",
       "      <td>170696071</td>\n",
       "      <td>Checked for the post with picture.\\n</td>\n",
       "      <td>2016-01-11T21:30:26Z</td>\n",
       "      <td>0.023619</td>\n",
       "      <td>RoyPuja</td>\n",
       "      <td>Puja</td>\n",
       "      <td>Roy</td>\n",
       "      <td>4</td>\n",
       "      <td>7</td>\n",
       "      <td>Masculino</td>\n",
       "    </tr>\n",
       "  </tbody>\n",
       "</table>\n",
       "<p>9151 rows × 14 columns</p>\n",
       "</div>"
      ],
      "text/plain": [
       "      NumeroIssue                                        TituloIssue  \\\n",
       "0            2126               Update dependency @types/node to v16   \n",
       "1            2126               Update dependency @types/node to v16   \n",
       "2            2126               Update dependency @types/node to v16   \n",
       "3            2126               Update dependency @types/node to v16   \n",
       "4            1897  [Review Tools] No Need to Process \"Known JS li...   \n",
       "...           ...                                                ...   \n",
       "9146          330  Remove chat fragments and pagerview from Event...   \n",
       "9147          279  posts: when a user adds a new post, scroll to ...   \n",
       "9148          279  posts: when a user adds a new post, scroll to ...   \n",
       "9149          279  posts: when a user adds a new post, scroll to ...   \n",
       "9150          279  posts: when a user adds a new post, scroll to ...   \n",
       "\n",
       "                                         DescricaoIssue          CriacaoIssue  \\\n",
       "0     [![WhiteSource Renovate](https://app.renovateb...  2021-10-26T13:26:17Z   \n",
       "1     [![WhiteSource Renovate](https://app.renovateb...  2021-10-26T13:26:17Z   \n",
       "2     [![WhiteSource Renovate](https://app.renovateb...  2021-10-26T13:26:17Z   \n",
       "3     [![WhiteSource Renovate](https://app.renovateb...  2021-10-26T13:26:17Z   \n",
       "4     Currently, the review tools processes and synt...  2021-03-19T12:06:10Z   \n",
       "...                                                 ...                   ...   \n",
       "9146             EventChatFragment\\nTopicChatFragment\\n  2015-12-30T02:45:10Z   \n",
       "9147  - this requires passing the post back to the p...  2015-11-13T22:50:19Z   \n",
       "9148  - this requires passing the post back to the p...  2015-11-13T22:50:19Z   \n",
       "9149  - this requires passing the post back to the p...  2015-11-13T22:50:19Z   \n",
       "9150  - this requires passing the post back to the p...  2015-11-13T22:50:19Z   \n",
       "\n",
       "      NumeroComentario                                         Comentario  \\\n",
       "0            951954780  # [Codecov](https://codecov.io/gh/mozilla/addo...   \n",
       "1            951965911  @willdurand I believe we are on node v14, so s...   \n",
       "2            984926548  > @willdurand I believe we are on node v14, so...   \n",
       "3            984944808  >> @willdurand I believe we are on node v14, s...   \n",
       "4            802829620  Should this be an addons-code-manager issue, o...   \n",
       "...                ...                                                ...   \n",
       "9146         172167498  @shehbashahab lightning fast :zap: :facepunch: \\n   \n",
       "9147         169553103  @RoyPuja noticing you are assigned. Are you ac...   \n",
       "9148         169566773                                        Yes,I am.\\n   \n",
       "9149         170394129  This works for text posts.@zassmin,@shehbashah...   \n",
       "9150         170696071               Checked for the post with picture.\\n   \n",
       "\n",
       "            DataComentario  RelevanciaTematica AutorComentario          Nome  \\\n",
       "0     2021-10-26T13:43:54Z            0.088300    codecov[bot]  codecov[bot]   \n",
       "1     2021-10-26T13:55:51Z            0.014058   bobsilverberg           Bob   \n",
       "2     2021-12-02T19:16:52Z            0.029444      willdurand       William   \n",
       "3     2021-12-02T19:42:19Z            0.061814   bobsilverberg           Bob   \n",
       "4     2021-03-19T13:23:39Z            0.038175   bobsilverberg           Bob   \n",
       "...                    ...                 ...             ...           ...   \n",
       "9146  2016-01-16T07:04:16Z            0.000185         zassmin       zassmin   \n",
       "9147  2016-01-07T05:12:20Z            0.016483         zassmin       zassmin   \n",
       "9148  2016-01-07T06:27:17Z            0.000182         RoyPuja          Puja   \n",
       "9149  2016-01-10T21:09:59Z            0.024899         RoyPuja          Puja   \n",
       "9150  2016-01-11T21:30:26Z            0.023619         RoyPuja          Puja   \n",
       "\n",
       "       Sobrenome  Reputacao  AnosPlataforma     Genero  \n",
       "0                         0               6       Bots  \n",
       "1     Silverberg         75              13  Masculino  \n",
       "2         Durand       1676              12  Masculino  \n",
       "3     Silverberg         75              13  Masculino  \n",
       "4     Silverberg         75              13  Masculino  \n",
       "...          ...        ...             ...        ...  \n",
       "9146                    136              10  Masculino  \n",
       "9147                    136              10  Masculino  \n",
       "9148         Roy          4               7  Masculino  \n",
       "9149         Roy          4               7  Masculino  \n",
       "9150         Roy          4               7  Masculino  \n",
       "\n",
       "[9151 rows x 14 columns]"
      ]
     },
     "execution_count": 4,
     "metadata": {},
     "output_type": "execute_result"
    }
   ],
   "source": [
    "dados"
   ]
  },
  {
   "cell_type": "markdown",
   "id": "03faa2be",
   "metadata": {},
   "source": [
    "Com os Dados então inseridos, contando com todos os campos necessários para as análises, temos que iremos gerar gráficos, tabelas, entre outros para verificar as respostas para as perguntas apresentadas acima.\n",
    "\n",
    "#### 🟣 **1.** Existe diferença entre a relevância dos comentários postados por homens e mulheres?\n",
    "\n",
    "Para poder verificar a diferença entre a relevância dos comentários postados por homens e mulheres, basta fazer uma média aritmética com a filtragem dos mesmos. Neste caso, temos então as médias:\n",
    "\n",
    "**Homens:** 0.04\n",
    "\n",
    "**Mulheres:** 0.03\n",
    "\n",
    "Além disso, foi feito um gráfico, para verificar esse intervalo, e se eles continham muitos outlier. E nesse caso, foi possível notar que os homens continham mais outlier que as mulheres, possuindo como nota máxima na escala de 0 a 1 a nota 0.7, enquanto as mulheres tem como nota máxima cerca de 0.5. Considerando que a escala tem um intervalo relativamente pequeno é possível notar que temos uma diferença consideravél entre a relevância de comentários postados por homens e mulheres."
   ]
  },
  {
   "cell_type": "code",
   "execution_count": 5,
   "id": "56c3e126",
   "metadata": {},
   "outputs": [
    {
     "name": "stdout",
     "output_type": "stream",
     "text": [
      "Homens:  nan\n",
      "Mulheres:  nan\n"
     ]
    }
   ],
   "source": [
    "mediaHomens = float(dados[dados['Genero'] == 'male'][['RelevanciaTematica']].mean())\n",
    "mediaMulheres = float(dados[dados['Genero'] == 'female'][['RelevanciaTematica']].mean())\n",
    "\n",
    "print('Homens: {0: .5f}'.format(mediaHomens))\n",
    "print('Mulheres: {0: .5f}'.format(mediaMulheres))"
   ]
  },
  {
   "cell_type": "code",
   "execution_count": 6,
   "id": "405b4cad",
   "metadata": {},
   "outputs": [
    {
     "data": {
      "text/plain": [
       "[Text(0.5, 0, 'Gênero'), Text(0, 0.5, 'Relevância Temática')]"
      ]
     },
     "execution_count": 6,
     "metadata": {},
     "output_type": "execute_result"
    },
    {
     "data": {
      "image/png": "iVBORw0KGgoAAAANSUhEUgAAAYIAAAEGCAYAAABo25JHAAAAOXRFWHRTb2Z0d2FyZQBNYXRwbG90bGliIHZlcnNpb24zLjUuMiwgaHR0cHM6Ly9tYXRwbG90bGliLm9yZy8qNh9FAAAACXBIWXMAAAsTAAALEwEAmpwYAAAkX0lEQVR4nO3de5gcZZn38e9vcgDCmcxwSohBDbiIiMuIurKYVSAhvAZF5OBxXBXjmwjKurvsiwuIuh5wXVDiFYFlB3lVTrqSlVkS5JB1V10zaAgEhGQ5hAkQZgIBQoAc5t4/qjp0d+bQmema6un+fa6rr6mnqrrq7pruvvupqud5FBGYmVnjaso7ADMzy5cTgZlZg3MiMDNrcE4EZmYNzonAzKzBjc07gB3V3NwcU6dOzTsMM7NR5e677+6JiJa+lo26RDB16lQ6OzvzDsPMbFSR9Fh/y3xqyMyswTkRmJk1OCcCM7MG50RgZtbgMk0EkmZKelDSKknn9bH8nyQtSx8PSVqfZTw2OvX09DB37lzWrVuXdyhmdSmzRCBpDDAfOBE4DDhT0mHF60TEFyLiyIg4Evge8LOs4rHRq729neXLl9Pe3p53KGZ1KcsawdHAqoh4OCI2AdcBJw+w/pnATzKMx0ahnp4eOjo6iAg6OjpcKzDLQJaJYBLweFG5K523HUmvAQ4G7uhn+VmSOiV1dnd3Vz1Qq13t7e0Uukrv7e11rcAsA7VysfgM4KaI2NrXwoi4IiJaI6K1paXPhnFWpxYvXszmzZsB2Lx5M4sWLco5IrP6k2UiWAMcVFSenM7ryxn4tJD14YQTTmDcuHEAjBs3jhkzZuQckVn9yTIRLAWmSTpY0niSL/uF5StJegOwN/CbDGOxUaqtrQ1JADQ1NdHW1pZvQGZ1KLNEEBFbgHnAIuAB4IaIWCHpYkmzi1Y9A7guPGam9aG5uZlZs2YhiVmzZjFx4sS8QzKrO5l2OhcRHUBH2bwLysoXZRmDjX5tbW088sgjrg2YZaRWLhabmVlOnAis5rlBmVm2nAisprlBmVn2nAisprlBmVn2nAisprlBmVn2nAisprlBmVn2nAisprlBmVn2nAisprlBmVn2Mm1QZlYNblBmli0nAqt5zc3NzJ8/P+8wzOqWTw2ZmTU4JwIzswbnRGA1z4PXm2XLicBqnvsaMsuWE4HVNPc1ZJY9JwKrae5ryCx7TgRW09zXkFn2nAisprmvIbPsORFYTXNfQ2bZyzQRSJop6UFJqySd1886p0m6X9IKST/OMh4bfdzXkFn2MksEksYA84ETgcOAMyUdVrbONODvgHdGxBuBz2cVj41es2fPZsKECZx88sl5h2JWl7KsERwNrIqIhyNiE3AdUP5J/jQwPyKeBYiIpzOMx0aphQsXsnHjRm6++ea8QzGrS1kmgknA40XlrnResUOAQyT9l6TfSpqZYTw2CrkdgVn28r5YPBaYBkwHzgSulLRX+UqSzpLUKamzu7t7ZCO0XLkdgVn2skwEa4CDisqT03nFuoCFEbE5Ih4BHiJJDCUi4oqIaI2I1paWlswCttrjdgRm2csyESwFpkk6WNJ44AxgYdk6PyepDSCpmeRU0cMZxmSjjNsRmGUvs0QQEVuAecAi4AHghohYIeliSbPT1RYB6yTdD9wJ/HVE+CSwbeN2BGbZy3SEsojoADrK5l1QNB3AuenDbDuFdgQ333yz2xGYZcRDVVrN85jFZtlyIrCa5zGLzbKV9+2jZmaWMycCM7MG50RgZtbgnAjMzBqcE4GZWYNzIjAza3BOBGZmDc6JwMyswTkRmJk1OCcCM7MG50RgZtbgnAjMzBqcE4GZWYNzIjAza3BOBGYNpKenh7lz57JunQcCtFdVnAgk7StpSuGRZVBmlo329naWL19Oe3t73qFYDRk0EUiaLWkl8AiwBHgU+PeM4zKzKuvp6aGjo4OI4JZbbnGtwLappEbwFeDtwEMRcTDwHuC3mUZlZlXX3t7O5s2bAdiyZYtrBbZNJYlgc0SsA5okNUXEnUBrJRuXNFPSg5JWSTqvj+VtkrolLUsfn9rB+M2sQosWLSIiAOjt7eXWW2/NOSKrFZWMWbxe0m7AfwA/kvQ08OJgT5I0BpgPHA90AUslLYyI+8tWvT4i5u1g3Ga2g/bbbz8effTRbeX9998/v2CsplRSIzgZ2Ah8AbgV+B/gvRU872hgVUQ8HBGbgOvSbZlZDtauXVtSfuqpp3KKxGpNJYlgX2B8RGyJiGuAK4HdK3jeJODxonJXOq/cByQtl3STpIP62pCksyR1Surs7u6uYNdmVm7GjBlIAkASM2fOzDkiqxWVJIIbgd6i8tZ0XjX8GzA1Io4AbgOu6WuliLgiIlojorWlpaVKuzZrLG1tbYwdm5wNHjduHG1tbfkGZDWjkkQwNj21A0A6Pb6C560Bin/hT07nbRMR6yLilbR4FXBUBds1syFobm7mpJNOQhInnXQSEydOzDskqxGVJIJuSbMLBUknAz0VPG8pME3SwZLGA2cAC4tXkHRAUXE28EAF2zWzIWpra+OII45wbcBKVHLX0BySu4UuB0Ry3v9jgz0pIrZImgcsAsYAV0fECkkXA50RsRA4O00yW4BngLahvQwzq0RzczPz58/POwyrMSrcVzzoisktpETEhkwjGkRra2t0dnbmGYKNsJ6eHi688EIuvvhin84wGyJJd0dEn23A+j01JOkj6d9zJZ0LnAWcVVQ2GxELFizgnnvuYcGCBXmHYlaXBrpGsGv6d/c+HrtlHJcZkNQGFi9eDCQtY90/jln19XuNICJ+kE7+MiL+q3iZpHdmGpVZasGCBfT2Jncv9/b2smDBAs4///ycozKrL5XcNfS9CueZVd1tt91WUi7UDsysevqtEUh6B/BnQEvZNYE9SO4CMstcoSVsf2UzG76BagTjSa4FjKX0+sDzwKnZh2YGxx13XEn5+OOPzykSs/o10DWCJcASSe0R8dgIxmS2zZw5c1i8eDG9vb00NTUxZ86cvEMyqzuVXCPYKOkSSR2S7ig8Mo/MjKQB1AknnAAknaa5HYFZ9fWZCCT9X0mFOvmPgJVAC3Ax8BhJ9xFmI2LOnDm8+c1vdm3ALCP9nRq6BviapL2A5oi4QtJHIuIu4C5JTgQ2Ytwtglm2+qwRRMSLEfF54Bag0PPoeknHS3oL4Pq5mVmdGLDTuYh4SdJXJe0JnAdcDuwF/NUIxGZmZiNg0IvFEfGLiHguIu6PiHdHxJ9GxL+ORHBmAA899BAzZsxg1apVeYdiVpcGTQTpeALfkfQzSQsLj5EIzgzgwgsv5MUXX+SCCy7IOxSzulTJeAQ/B/6ZZFjJ3oFXNauuhx56iMcfT4a+Xr16NatWreL1r399zlGZ1ZdK2hG8HBHfjYg7I2JJ4ZF5ZGYktYFirhWYVV8lNYLLJF0ILAYK4wsTEb/PLCqzVKE2ULB69eqcIjGrX5UkgjcBHwXezaunhiItm40odzpnVn2VJIIPAq+NiE2DrmlWZQceeCBPPPFESdnMqquSawT3kbQd2GGSZkp6UNIqSecNsN4HJIWkPsfTtMb17LPPlpSfeeaZnCIxq1+VJIK9gD9KWrQjt49KGgPMB04EDgPOlHRYH+vtDpwD/PcORW4NYcaMGSXlmTNn5hSJWf2q5NTQhYOv0qejgVUR8TCApOuAk4H7y9b7CvBN4K+HuB+rY21tbdx8881EBJJoa2vLOySzulNJy+IlwKPAuHR6KVDJHUOTgOJbPrrSedtI+lPgoIi4ZaANSTpLUqekzu7u7gp2bfUkIvIOwayuVdKy+NPATUBhMPtJJI3MhkVSE/AdKui3KCKuiIjWiGhtaWkZ7q5tFFmwYMG26YgoKZtZdVRyjWAu8E6SISqJiJXAvhU8bw1wUFF5cjqvYHfgcJJurR8F3g4s9AVjK1Y+eH152cyGr5JE8ErxraOSxpK0IxjMUmBa2lfReOAMYNtF5rQju+aImBoRU4HfArMjonOHXoHVtd7e0l5Ntm7dmlMkZvWr30QgaV46uUTS/wN2kXQ8cCNJv0MDiogtwDxgEfAAcENErJB0saTZww/dGkF5AzI3KDOrvoFqBH+Z/j0P6AbuBT4DdABfqmTjEdEREYdExOsi4mvpvAsiYrvbTyNiumsDVu7YY48tKU+fPj2fQMzq2KC3j0ZEL3Bl+jAbUTvvvHNJeaeddsopErP6NVCN4AhJz/fxeEHS8yMWoTW0JUtKO7q966678gnErI4NlAjujYg9+njsHhF7jFiE1tCam5tLyr592Kz6KrlryCw3xR3O9VU2s+EbKBHcOGJRmFXIrYzNqq/fRBAR/zCSgZj1Zb/99isp77///jlFYla/fGrIatpTTz1VUn7yySdziqQ+9PT0MHfuXNatW5d3KFZDnAisppU3IGtq8lt2ONrb21m+fDnt7e15h2I1pKJPlaSTJP2NpAsKj6wDM4PtTw2Vl61yPT093HLLLUQEt9xyi2sFtk0lvY8uAE4HPgeIZOjK12Qclxmw/akg3zU0dO3t7WzZsgWAzZs3u1Zg21RSI/iziPgY8GxEfBl4B3BItmGZJcrvEvJdQ0O3aNGibccvIrj11ltzjshqRSWJ4KX070ZJBwKbgQOyC8nMsuA7sKw/lQxV+QtJewGXkIxMFsBVWQZlZtW3du3aknL5HVnWuCoZqvIrEbE+In5Kcm3gDRHx99mHZmbVNGPGjG13YUli5syZOUdktaLfGoGkd0fEHZJO6WMZEfGzbEMzs2pqa2tj4cKFRASSaGtryzskqxEDnRp6F3AH8N4+lgXgRGA2yhRGfCsf+c0aW7+JICIuTP9+YuTCMbOsLFiwYLvy+eefn1M0VksqaUfwD+nF4kJ5b0lfzTQqs9QBB5TeoDZp0qScIhn9brvttgHL1rgquX30xIhYXyhExLPArMwiMivyzDPPlJR7enpyimT027p1a0m50LjMrJJEMEbStvEBJe0CeLxAGxHjxo0rKY8fPz6nSMzqVyWJ4EfA7ZI+KemTwG3ANZVsXNJMSQ9KWiXpvD6Wz5F0r6Rlkv5T0mE7Fn5tcg+P1bNhw4aS8gsvvJBTJKPfmDFjSspjx1bSjMgaQSXtCL4JfA34k/TxlYj41mDPkzQGmA+cCBwGnNnHF/2PI+JNEXEk8C3gOzsWfm1yD4/Vc9BBB5WUp0yZklMko9/xxx8/YNkaV0W9j0bEv0fEF9PHogq3fTSwKiIejohNwHXAyWXbfb6ouCvJbamjWk9PDx0dHUQEHR0drhUM0957711S3meffXKKZPQ77bTTSsqnn356TpFYrankrqFTJK2U9Jyk5yW9IOn5wZ4HTAIeLyp3pfPKtz9X0v+Q1AjO7ieGsyR1Surs7u6uYNf5aW9v39axV29vr2sFw7R8+fKS8rJly/IJpA7ccMMNJeXrr78+p0is1lRSI/gWMDsi9oyIPSJi94jYo1oBRMT8iHgd8LfAl/pZ54qIaI2I1paWlmrtOhOLFy9m8+bNQNLV76JFlVagzLLl20etP5UkgrUR8cAQtr0GKD7BOzmd15/rgPcNYT815YQTTth2p8u4ceOYMWNGzhGZJcpbE5ffTmqNq5JE0CnpeklnpqeJTumr/6E+LAWmSTpY0njgDGBh8QqSphUVTwJWVhx5jWpra9vWsVdTU5P7c7GaUT7sZ3nZGlcliWAPYCNwAkm/Q+8F/s9gT4qILcA8YBHwAHBDRKyQdLGk2elq8yStkLQMOBf4+I6/hNrS3NzMrFmzkMSsWbOYOHFi3iGZAUlttZhrq1Yw6I3Ew+lrKCI6gI6yeRcUTZ8z1G3Xsra2Nh555BHXBqymnHbaaSWjkvmuISuo5K6hndM7e74v6erCYySCG62am5uZP3++awNWU3zXkPWn30Qg6RhJ7weuBfYHZgBLSC76unmn2Sjzy1/+sqTsu4asoM9EIOnTQBvwb8Dr0xHJXoyIa0gu6r5txCI0s6ootG/pr2yNq78awUKSQepnApvSeeslHQ7sCew7ArGZWRWVdylRfvHYGlefiSAi1kbEZ4HbgSsl7Q38PUmCuB/45siFaGbVMGfOHJqako98U1MTc+bMyTkiqxUDXiyOiJeAf4mIZyNiSUS8NiL2jYgfjFB8ZlYlzc3NHHvssQBMnz7dNzPYNpW0I3hE0hWS3iO3QKmIu6E2s9GkkkTwBuCXwFzgUUmXSzom27BGN3dDbbWop6eHJUuWAHDnnXf6h4ptU8l4BBsj4oaIOAU4kqSl8ZKsAxut3A211aoFCxZsu1MoIrYbzN4aV0XjEUh6l6TvA3cDOwOnDfKUhuVuqK1WlbcbWLx4cU6RWK2ppGXxo8DngV8Bb4qI0yLipxnHNWq5G2qrVeW9jbr3USuopEZwRES8PyJ+EhEvZh7RKOduqM1stKkkEewv6XZJ9wFIOkJSnwPImLuhttq1yy67lJQnTJiQUyRWaypJBFcCf0fS0piIWE4ytoD1wd1QW6165ZVXBixb4xq0G2pgQkT8rqwJwZaM4qkL7obaRgP3NWQFldQIeiS9DggASacCT2Ya1SjnbqitFjU3N5eU993XXYZZopIawVzgCuANktYAjwAfyTQqM6u6p59+uqS8du3anCKxWlPJCGUPA8dJ2hVoigiPRWBWB3xqyAr6TQSSzu1nPgAR8Z2MYjKzDEyYMIGNGzduK++66645RmO1ZKBrBLsP8hiUpJmSHpS0StJ5fSw/V9L9kpant6i+ZsdfgplV4uWXXx6wbI2r3xpBRHx5OBuWNAaYDxwPdAFLJS2MiPuLVvsD0BoRGyV9FvgW4BG1zTLgzoOtP5V0MXHIEBuUHQ2sioiHI2ITcB1wcvEKEXFnRBTqqr8lGQ/ZzDJwwAEHlJQPPPDAnCKxWpNlg7JJwONF5a50Xn8+Cfx7XwsknSWpU1Jnd3d3Bbs2s3I9PT0lZX+WrKCSRDAhIn5XNq+qDcokfQRoBS7pa3lEXBERrRHR2tLSUs1dmzWM8nYE/ixZQSXtCIbaoGwNcFBReXI6r4Sk44DzgXdFhNu8m2XkySdLP7ZPPPFETpFYrRlqg7IPV/C8pcA0SQeTJIAzgA8VryDpLcAPgJkR8fT2mzCzaunt7R2wbI1rhxuUARtJvtQfG+R5WyTNAxYBY4CrI2KFpIuBzohYSHIqaDfgxvSOhtURMXs4L8jM+tbU1FQyBkFTU0XjUlkDGKhB2R4ktYFJwM28Om7xXwHLgR8NtvGI6AA6yuZdUDR93JCiNrMddsABB9DV1bWt7LuGrGCgGsG1wLPAb4BPk5zHF/D+iFiWfWhmVk3l1wTWrNnukp01qIESwWsj4k0Akq4iuUA8JSLcHNFsFPI1AuvPQCcJNxcmImIr0OUkYGZWfwaqEbxZ0vPptIBd0rKAiIg9Mo/OzMwyN1BfQ2NGMhAzM8uH7x8zM2twTgRmZg3OicDMrME5EZiZNTgnAjOzBudEYGbW4JwIzMwaXCXdUDeUyy67jJUrVw5rG4U+XCZNGmhAtsFNmzaNc845Z1jbMDMbjBNBBjZu3Dj4SmZmNcKJoEw1foHPmzcPgMsvv3zY2zIzy5qvEZiZNTgnAjOzBudEYGbW4HyNwDJVjbuwyhWuwewI34Fl1r9MawSSZkp6UNIqSef1sfxYSb+XtEXSqVnGYmZmfcusRiBpDDAfOB7oApZKWhgR9xetthpoA76YVRyWr+H+Cj/mmGO2m9fId2NVu4Y1lNoVuIZVb7KsERwNrIqIhyNiE3AdcHLxChHxaEQsBzx4qvWptbW1pPz2t789p0jM6leW1wgmAY8XlbuAt2W4P6tDl156aUmt4Nvf/naO0eRvOL/CXbuy/oyKu4YknSWpU1Jnd3d33uHYCJswYQLg2sBwnXLKKSXl0047LadIrNZkmQjWAAcVlSen83ZYRFwREa0R0drS0lKV4Gz0OOSQQzjyyCMbvjYwXOeee25J+eyzz84pEqs1WSaCpcA0SQdLGg+cASzMcH9mNoh99tkHcG3ASmWWCCJiCzAPWAQ8ANwQESskXSxpNoCkt0rqAj4I/EDSiqziMTOYMmUKRx55pGsDViLTBmUR0QF0lM27oGh6KckpIzMzy0ldtSzOohXrUBRiGOo92tXie73NrBJ1lQhWrlzJgw8+xJRJU3KNY/zY8QC8tOHl3GJYvWZ1bvs2s9GlrhIBwJRJUzjvc1/KO4zcfeN7X807BDMbJUZFOwIzM8uOE4GZWYNzIjAza3BOBGZmDa6uLhZ3dXXx4oYXfaEUWN31GLvutmveYZjZKFBXicCqy+0ySrldhtWrukoEkydP5qUNL/v2UZLbR3fZbedhbWPlypX8ccUfOXCv/asU1dCM6U3OYD6/Zn1uMTyx/qlhb6MWEmutJFVwYq0ldZUIrPoO3Gt/5rznL/MOI3cLbr962NtYuXIlDy5bwaQxew0/oCEa25uMAbXh3iF1BFw1a7auz3X/VsqJwGwETRqzF5/ffXreYeTu0hfuyjsEK+K7hszMGpwTgZlZg3MiMDNrcE4EZmYNzheLrV9dXV1seO6FqtwxM9o9sf5Jno8Nw9pGV1cXG7Y+5wulQNfW9ezWFXmHYam6SwSr16zOvWXx091rAdi3Zb/cYli9ZjWHHnpIbvs3s9GjrhLBtGnT8g4BgE1PbgIYdoOu4Tj00EOGfTwmT57M81rvdgQk7Qj2mLTXsLYxefJkNjwr3z5KcvvobpMn5R2GpeoqEdRKK8VCq83LL78850jMzAaXaSKQNBO4DBgDXBUR3yhbvhPwQ+AoYB1wekQ8mmVMtmOeWP9U7tcIejasA6B5t4m5xfDE+qeGXSOApEVtntcIunuT6xwtTbvlFgMkx+FQXCOoFZklAkljgPnA8UAXsFTSwoi4v2i1TwLPRsTrJZ0BfBM4PauYbMfUyqm2tSu7AaryRTxUe0zaa9jHoxaO55NpX0O7Tcv3S/hQJtXE8bBEljWCo4FVEfEwgKTrgJOB4kRwMnBROn0TcLkkRURutxNUo2OwanXslXenXNXYdy10tAb5H0vw8ay2yy67jI6OjiE/f+PGjeT4VVNCEhMmTBjWNmbNmjXk/0mWiWAS8HhRuQt4W3/rRMQWSc8BE4Ge4pUknQWcBTBlypSs4q2a4f5DrZSPZ/X4WFpflFVGlHQqMDMiPpWWPwq8LSLmFa1zX7pOV1r+n3Sdnr62CdDa2hqdnZ2ZxGxmVq8k3R0RrX0ty7Jl8RrgoKLy5HRen+tIGgvsSXLR2MzMRkiWiWApME3SwZLGA2cAC8vWWQh8PJ0+Fbgjz+sDZmaNKLNrBOk5/3nAIpLbR6+OiBWSLgY6I2Ih8M/AtZJWAc+QJAszMxtBmbYjiIgOoKNs3gVF0y8DH8wyBjMzG5h7HzUza3BOBGZmDc6JwMyswTkRmJk1uMwalGVFUjfwWN5xVKCZshbSNiw+ntXjY1ldo+V4viYiWvpaMOoSwWghqbO/Vny243w8q8fHsrrq4Xj61JCZWYNzIjAza3BOBNm5Iu8A6oyPZ/X4WFbXqD+evkZgZtbgXCMwM2twTgRmZg3OiWAHSdoqaZmkeyT9XtKfDbL+VEkfGqn48iIpJP3/ovJYSd2SfjEC+56aDnKEpFZJ3816nyOl6P1WeEytwjZ/XcE6V0k6bLj7qob0vfWPReUvSroonR4vqUPS7ZIW7OB2p/f3/pT0qKTmIcb7vuJjJ+liScel038uaUX6v5wk6aah7KNsf9ve/0OVae+jdeqliDgSQNIM4OvAuwZYfyrwIeDHmUeWrxeBwyXtEhEvAcez/UBEmYuITqCehrDb9n6rlogY8MdLus6nqrnPYXoFOEXS18tHL4yITcCsfMLq1/uAX5COz17c4zLwYeDrEVH40XTqyIbWN9cIhmcP4FkAJS6RdJ+keyWdnq7zDeDP018AX5D0Rkm/S8vLJU3LLfrq6wBOSqfPBH5SWCDpaEm/kfQHSb+WdGg6v8/jIeljafkeSdem89rTIVAL29xQHkDxrzxJF0m6WtJdkh6WdHbReuem/6v7JH2++ociO5KOkrRE0t2SFkk6IJ1/l6R/ktQp6QFJb5X0M0krJX216Pkb0r/T0+fcJOmPkn4kSUXbai2sL+lr6f/it5L2S+dPlXRH+n+6XVJWA4pvIbkz5wt9HIv3Svrv9H31y6LY9pH08zS230o6YqAdSJooaXH6a/0qQEXLPlL0Hv2BpDHp/O2Oi5IzBLOBS9L1X1d430r6FHAa8JX0WBfXZMdI+nb6flwu6XPp/AskLU3nX1H0/zkq3e89wNyiWHeW9C/pd9AfJP1FRUc4IvzYgQewFVgG/BF4Djgqnf8B4DaSQXj2A1YDBwDTgV8UPf97wIfT6fHALnm/piodlw3AEcBNwM7pMdr22kmS5th0+jjgp/0dD+CNwENAczp/n/RvO3Bq8T7Tv1OB+9Lp4n1eBPwa2ImkG4B1wDjgKOBeYFdgN2AF8Ja8j+Eg77dlwL+m8f8aaEmXn04y6BPAXcA30+lzgCfS9+BOQBcwsey4TU/fw5NJfhT+BjimaFut6XQA702nvwV8KZ3+N+Dj6fRfAj/P8L21B/AoyXC2XwQuSpftzat3P34K+Mei99WF6fS7gWV9bLf4vfJd4IJ0+qT0NTcDf5K+znHpsu8DHxvkuJS/T7eVy6aL37efJfnsFD4j+xT/TaevLdrfcuDYdPqSou38VdH74Q0k30M7D3aMfWpoxxWfGnoH8ENJhwPHAD+JiK3AWklLgLcCz5c9/zfA+ZImAz+LiJUjF3q2ImK5knPYZ1I2IBHJB/ia9Bd/kHyhQR/HQ9K7gRsjPQ0QEc8MI6xbIuIV4BVJT5Mk6WOAf42IFwEk/Qz4c+APw9hPVkpODaXvtcOB29Ifh2OAJ4vWLwwHey+wIiKeTJ/3MMn44OVjgv8uIrrSdZaRfDn9Z9k6m0hOdQDcTXLaD+AdwCnp9LUkX4aZiIjnJf0QOBt4qWjRZOD6tFY0HngknX8MyY8zIuKO9Bf/HhFR/nksOJb0tUTELZKeTee/h+SHw9L0eO8CPJ0u6++4DMVxwIKI2JLGUHjP/4WkvwEmAPsAKyT9CtgrIv4jXeda4MR0+hiSJEhE/FHSY8AhJImjXz41NAwR8RuSXw19duTUz3N+TFJ1fAnoSL/06slC4NsUnRZKfQW4MyIOB95LUmvY0eOxhfQ9K6mJ5IM/mFeKprcy+q+LieQL/sj08aaIOKFoeeH19lL62nvp+7VXcnw2R/oTc4B1RsKlwCdJanIF3wMuj4g3AZ8hfV9VkYBrio73oRFxUbos0+MiaWeSGsip6eu7kuq/PsCJYFgkvYHkF9k64FfA6em5vhaSXxi/A14Adi96zmuBhyPiu8DNJKdT6snVwJcj4t6y+Xvy6sXjtsLMfo7HHcAHJU1M19knXf1Rkl9nkCSPQq1iR/0KeJ+kCZJ2Bd6fzhsNHgRa0tooksZJemNOsfyaV8cZ/zAZH8P0V/INJMmgoPh99fGi+b9KY0LSdKBngNoAwH+Q3NSBpBNJTjkB3A6cKmnfdNk+kl4zSKgln/kK3QZ8RtLYwn549Uu/R9JupBeWI2I9sF7SMenyDxdtp/h1HwJMIXnPDMiJYMftkl4EWgZcT3KOdCvJ+dvlwD0kX2R/ExFPpfO2phd2vkBysei+9PmHAz/M4TVkJiK60i/1ct8Cvi7pD5T+ctrueETECuBrwJL0Yth30nWvBN6VznsHyZ1KQ4nx9yTnan8H/DdwVUTU4mmh7URyl8ypwDfT47AMGPQuoIx8DviEpOXAR0muS2TtH0lq4QUXATdKupvSrqAvAo5KY/sGpUmiL18GjpW0guQU0WqAiLgf+BKwON3WbSTXXQZyHfDX6cXa11XyooCr0n0uT/+vH0q/8K8E7gMWAUuL1v8EMD/93Kho/veBJkn3knw/taWnRgfkLibMzBqcawRmZg3OicDMrME5EZiZNTgnAjOzBudEYFYhSR+WdNTga5qNLk4EZqm0r5gfK+mX6G4lfSO9P132PpJ7y+dI2j/XQM2qbLS3sjSrirQzr5+TtCItNCx6DUnDNSLi5xnsc2yhSwGzPLlGYJZ4N7ApIrb1aR8Rj0XE99LW4pekvUAul/QZGLT3zoF6CL1UUidwjqT3pA2P7lXSU+pOebx4a2xOBGaJNwK/72fZJ4HnIuKtJB0JflrSwemytwCfBw4DXgu8U9I4kj5wTo2Io0i63fha0fbGR0QrMJ+khfPpaV8yY0l6oTQbUT41ZNYHSfNJenLcBDwGHKFXx0LYE5iWLuur9871DNxD6PXp30OBRyLiobR8DUnf8pdm8JLM+uVEYJZYQdptMUBEzFUyVGEnSR8wn4uIRcVPSDsz66v3zkIPoe/oZ19D6iPJLCs+NWSWuAPYWVLxqZkJ6d9FwGfTUz5IOiTttbQ/lfYQ+iAwVdLr0/JHgSXDeRFmQ+EagRkQEZHeIvpP6UAg3SS/3P8WuJHklM/v04vB3STj0va3rU3paaTvStqT5HN2KUmto3i9lyV9gqT3zLEkvUvu0ADsZtXg3kfNzBqcTw2ZmTU4JwIzswbnRGBm1uCcCMzMGpwTgZlZg3MiMDNrcE4EZmYN7n8Bl/04tjZFfmsAAAAASUVORK5CYII=\n",
      "text/plain": [
       "<Figure size 432x288 with 1 Axes>"
      ]
     },
     "metadata": {
      "needs_background": "light"
     },
     "output_type": "display_data"
    }
   ],
   "source": [
    "sns.boxplot(data=dados, x='Genero', y='RelevanciaTematica', palette=\"PuRd\").set(xlabel='Gênero', ylabel='Relevância Temática')"
   ]
  },
  {
   "cell_type": "code",
   "execution_count": 7,
   "id": "da23448c",
   "metadata": {},
   "outputs": [],
   "source": [
    "li = [dados[:216], dados[216:462], dados[462:667], dados[667:1034], dados[1034:1804], dados[1885:2088], dados[2113:2282], \n",
    "      dados[2539:2892], dados[2892:2932], dados[3171:3395], dados[3620:3707], dados[3707:4092], dados[4110:4620], \n",
    "     dados[4620:4975], dados[4975:5188], dados[5943:7715], dados[7715:9047]]\n",
    "comunidadesAbertas = pd.concat(li, axis=0, ignore_index=True)\n",
    "li = [dados[1804:1885], dados[2088:2113], dados[2113:2539], dados[2932:3060], dados[3060:3091], dados[3091:3141], dados[3091:3171],\n",
    "     dados[3395:3517], dados[3517:3620], dados[4092:4110], dados[5188:5943], dados[9047::]]                                       \n",
    "comunidadesExclusivas = pd.concat(li, axis=0, ignore_index=True)"
   ]
  },
  {
   "cell_type": "code",
   "execution_count": 8,
   "id": "d821d7f8",
   "metadata": {},
   "outputs": [
    {
     "data": {
      "text/plain": [
       "[Text(0.5, 0, 'Gênero'), Text(0, 0.5, 'Relevância Temática')]"
      ]
     },
     "execution_count": 8,
     "metadata": {},
     "output_type": "execute_result"
    },
    {
     "data": {
      "image/png": "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\n",
      "text/plain": [
       "<Figure size 432x288 with 1 Axes>"
      ]
     },
     "metadata": {
      "needs_background": "light"
     },
     "output_type": "display_data"
    }
   ],
   "source": [
    "comunidadesAbertas.loc[comunidadesAbertas['Genero'] == \"female\", 'Genero'] = 'Feminino'\n",
    "comunidadesAbertas.loc[comunidadesAbertas['Genero'] == \"male\", 'Genero'] = 'Masculino'\n",
    "comunidadesAbertas.loc[comunidadesAbertas['Genero'] == \"None\", 'Genero'] = 'Não Identificado'\n",
    "comunidadesAbertas.loc[comunidadesAbertas['Genero'] == \"bot\", 'Genero'] = 'Bots'\n",
    "sns.set_palette(['lightcoral', 'cornflowerblue', 'mediumvioletred','c'])\n",
    "sns.color_palette(\"rocket\")\n",
    "sns.boxplot(data=comunidadesAbertas, x='Genero', y='RelevanciaTematica').set(xlabel='Gênero', ylabel='Relevância Temática')"
   ]
  },
  {
   "cell_type": "code",
   "execution_count": 9,
   "id": "52efc68f",
   "metadata": {},
   "outputs": [
    {
     "data": {
      "text/plain": [
       "[Text(0.5, 0, 'Gênero'), Text(0, 0.5, 'Relevância Temática')]"
      ]
     },
     "execution_count": 9,
     "metadata": {},
     "output_type": "execute_result"
    },
    {
     "data": {
      "image/png": "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\n",
      "text/plain": [
       "<Figure size 432x288 with 1 Axes>"
      ]
     },
     "metadata": {
      "needs_background": "light"
     },
     "output_type": "display_data"
    }
   ],
   "source": [
    "comunidadesExclusivas.loc[comunidadesExclusivas['Genero'] == \"female\", 'Genero'] = 'Feminino'\n",
    "comunidadesExclusivas.loc[comunidadesExclusivas['Genero'] == \"male\", 'Genero'] = 'Masculino'\n",
    "comunidadesExclusivas.loc[comunidadesExclusivas['Genero'] == \"None\", 'Genero'] = 'Não Identificado'\n",
    "comunidadesExclusivas.loc[comunidadesExclusivas['Genero'] == \"bot\", 'Genero'] = 'Bots'\n",
    "sns.set_palette(['mediumvioletred', 'lightcoral', 'cornflowerblue'])\n",
    "sns.boxplot(data=comunidadesExclusivas, x='Genero', y='RelevanciaTematica').set(xlabel='Gênero', ylabel='Relevância Temática')"
   ]
  },
  {
   "cell_type": "markdown",
   "id": "0903b472",
   "metadata": {},
   "source": [
    "#### 🔵 **2.** Existe relação entre a relevância dos comentários e a reputação do autor?"
   ]
  },
  {
   "cell_type": "code",
   "execution_count": 10,
   "id": "04a65bbd",
   "metadata": {},
   "outputs": [],
   "source": [
    "dados = dados.round({\"RelevanciaTematica\":1})\n",
    "dadosPlot = dados[dados.Genero != 'Não Identificado']\n",
    "dadosPlot = dadosPlot[dadosPlot.Genero != 'Bots']"
   ]
  },
  {
   "cell_type": "code",
   "execution_count": 11,
   "id": "99235809",
   "metadata": {},
   "outputs": [
    {
     "data": {
      "text/plain": [
       "[Text(0.5, 0, 'Relevância Temática'), Text(0, 0.5, 'Reputação'), None]"
      ]
     },
     "execution_count": 11,
     "metadata": {},
     "output_type": "execute_result"
    },
    {
     "data": {
      "image/png": "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\n",
      "text/plain": [
       "<Figure size 432x288 with 1 Axes>"
      ]
     },
     "metadata": {
      "needs_background": "light"
     },
     "output_type": "display_data"
    }
   ],
   "source": [
    "sns.barplot(x='RelevanciaTematica', y='Reputacao', palette=\"rocket\", alpha=0.7, data=dadosPlot, hue='Genero').set(xlabel='Relevância Temática', ylabel='Reputação', yscale='log')"
   ]
  },
  {
   "cell_type": "code",
   "execution_count": 12,
   "id": "9c178784",
   "metadata": {},
   "outputs": [],
   "source": [
    "comunidadesAbertas = comunidadesAbertas.round({\"RelevanciaTematica\":1})\n",
    "comunidadesExclusivas = comunidadesExclusivas[comunidadesExclusivas.Genero != 'Bots']\n",
    "comunidadesExclusivas = comunidadesExclusivas.round({\"RelevanciaTematica\":1})"
   ]
  },
  {
   "cell_type": "code",
   "execution_count": 13,
   "id": "8153b121",
   "metadata": {},
   "outputs": [
    {
     "data": {
      "text/plain": [
       "[Text(0.5, 0, 'Relevância Temática'), Text(0, 0.5, 'Reputação'), None]"
      ]
     },
     "execution_count": 13,
     "metadata": {},
     "output_type": "execute_result"
    },
    {
     "data": {
      "image/png": "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\n",
      "text/plain": [
       "<Figure size 432x288 with 1 Axes>"
      ]
     },
     "metadata": {
      "needs_background": "light"
     },
     "output_type": "display_data"
    }
   ],
   "source": [
    "sns.barplot(x='RelevanciaTematica', y='Reputacao', palette=\"rocket\", alpha=0.7, data=comunidadesAbertas, hue='Genero').set(xlabel='Relevância Temática', ylabel='Reputação', yscale='log')"
   ]
  },
  {
   "cell_type": "code",
   "execution_count": 14,
   "id": "c72c567b",
   "metadata": {},
   "outputs": [
    {
     "data": {
      "text/plain": [
       "[Text(0.5, 0, 'Relevância Temática'), Text(0, 0.5, 'Reputação'), None]"
      ]
     },
     "execution_count": 14,
     "metadata": {},
     "output_type": "execute_result"
    },
    {
     "data": {
      "image/png": "iVBORw0KGgoAAAANSUhEUgAAAYUAAAEGCAYAAACKB4k+AAAAOXRFWHRTb2Z0d2FyZQBNYXRwbG90bGliIHZlcnNpb24zLjUuMiwgaHR0cHM6Ly9tYXRwbG90bGliLm9yZy8qNh9FAAAACXBIWXMAAAsTAAALEwEAmpwYAAAd9klEQVR4nO3de3QV9b338fcXCAQBY4FULMhNrBfkHlBYFYK1R4tc1MJTlQpIldKHgsrRaMUeOT70OVXO06VVakVbKdTlDZWCWj1WpGq1FWgVg1dKYw01iNTGK4XA9/ljT8YdCMkk7NmTnXxea+21Z2bP5fvLhnwyt9+YuyMiIgLQKukCRESk6VAoiIhISKEgIiIhhYKIiIQUCiIiEmqTdAGHomvXrt67d++kyxARySkbN258390La/ssJ0PBzCYAE/r168eGDRuSLkdEJKeY2dsH+ywnDx+5+xp3n1VQUJB0KSIizUpOhoKIiMRDoSAiIqGcPKcgIs3Pnj17KC8vZ9euXUmX0mzk5+fTo0cP8vLyIi+jUBCRJqG8vJxOnTrRu3dvzCzpcnKeu7Nz507Ky8vp06dP5OV0+EhEmoRdu3bRpUsXBUKGmBldunRp8J6XQkFEmgwFQmY15uepw0eSk0pKSqioqKBbt27ceOONSZcj0mxoT0FyUkVFBdu2baOioiLpUiTHbN++nQsuuIC+ffsybNgwRo4cycMPP5x0WU1GToaCmU0ws6WVlZVJl9KklZSUMG3aNEpKSpIuRaRJcHfOPvtsRo8ezdatW9m4cSP33nsv5eXlsW2zqqoqtnXHISdDQXc0R6O/pkVqWrt2LW3btmX27NnhtF69ejF37lz27t3LlVdeyfDhwxk4cCC33347AOvWraO4uJjJkydz/PHHM3XqVKqfWLlx40bGjBnDsGHDOOOMM3j33XcBKC4u5rLLLqOoqIibb76Zp556iiFDhjBgwABmzpzJv/71r+w3PqKcDAURkcbYvHkzQ4cOrfWzn//85xQUFLB+/XrWr1/PHXfcwV//+lcA/vznP3PTTTfx6quvsnXrVn7/+9+zZ88e5s6dy8qVK9m4cSMzZ85kwYIF4fp2797Nhg0bmDNnDjNmzOC+++7jlVdeoaqqittuuy0r7W0MnWgWkRZrzpw5PPfcc7Rt25ZevXqxadMmVq5cCUBlZSVvvfUWbdu2ZcSIEfTo0QOAwYMHU1ZWxhFHHEFpaSlf+9rXANi7dy9HHXVUuO5vfvObALzxxhv06dOHL3/5ywBMnz6dJUuWcNlll2WxpdEpFESkxejfvz8PPvhgOL5kyRLef/99ioqK6NmzJ7fccgtnnHFGjWXWrVtHu3btwvHWrVtTVVWFu9O/f39eeOGFWrfVoUOHeBoRsxZ9+EgnYkValtNOO41du3bVOHzz6aefAnDGGWdw2223sWfPHgDefPNNPvnkk4Ou67jjjmPHjh1hKOzZs4fNmzfXOl9ZWRlbtmwBYMWKFYwZMyZjbcq0Fr2nUH0iVkRaBjNj1apVXH755dx4440UFhbSoUMHbrjhBqZMmUJZWRlDhw7F3SksLGTVqlUHXVfbtm1ZuXIl8+bNo7KykqqqKi677DL69+9fY778/HzuuusupkyZQlVVFcOHD69xorupseqz6LmoqKjID+UhO9OmTWPbtm10796d5cuXZ7Cy+CybszjyvKv+8gwf7fmUTnmHcfYxo+udf8aSKw+ltKzKxe9O6vbaa69xwgknJF1Gs1Pbz9XMNrp7UW3zt+jDRyIiUlOzPHwU9a/pD9/7IHyPskwu/SUtItIY2lMQEZFQs9xTkHipMzqR5kuhIA2mq7bip+CVpCgURJogBa8kJSdDwcwmABP69et3SOvpmNe+xruINB0Nufw6iigXirRu3ZoBAwaE46tWraJ3796HtN1Ro0bx/PPP1znPxRdfzPz58znxxBMPaVuZkJOh4O5rgDVFRUWXHMp6Tu85PEMVNU0KPZGGad++PS+99FJG11lfIADceeedGd3modDVR83Y6T2Hc/Yxo5t9+InEqa7usS+//HKKioo44YQTWL9+Peeeey7HHnss1157bbh8x44dgbq74C4uLqb6RtyOHTuyYMECBg0axCmnnML27dsBKCsr47TTTmPgwIF89atf5W9/+1ss7VUoiIgEPvvsMwYPHszgwYM555xz6u0eu23btmzYsIHZs2czadIklixZQmlpKcuWLWPnzp0HrL+2Lrj398knn3DKKafw8ssvM3r0aO644w4A5s6dy/Tp09m0aRNTp05l3rx5sfwMcvLwkYhIHPY/fFRaWlpn99gTJ04EYMCAAfTv3z/8rG/fvrzzzjt06dKlxvpr64L7K1/5So152rZty/jx4wEYNmwYTz75JAAvvPACDz30EAAXXnhhbB15KhRioMsJRZqH+rrHru5Su1WrVjW6127VqlWtj+GsrQvu/eXl5WFmdc4TJx0+ioEegynSPETtHjsbRo0axb333gvA3XffzamnnhrLdrSnICJNUlPoayxq99jZcMstt3DRRRexePFiCgsLueuuu2LZjkJBQn9fGu268L2VH4TvUZb50qzk/3NLig5t1u3jjz8+YNrgwYN55plnDpi+bt26cLi4uJji4uJaP6te5/7z3HrrrXXODzB58mQmT54MQK9evVi7dm3UpjSaQkGkBdGd0lIfhUID6C/p+MXV7Tk0jcMRIk2dTjSLiEhIoSAiIiGFgoiIhBQKIiIS0olmEWmSol7YEVWUCzrMjKlTp/KrX/0KgKqqKo466ihOPvlkHnnkkYzWs7+ysjLGjx9PaWkpGzZsYPny5fzkJz+JdZu1USjEoGuH9jXeRSQ3dOjQgdLSUj777DPat2/Pk08+Sffu3bNeR1FREUVFRVnfLujwUSyuKh7O4rNGc1WxuqwWyTXjxo3j0UcfBeCee+7h/PPPDz978cUXGTlyJEOGDGHUqFG88cYbAGzevJkRI0YwePBgBg4cyFtvvQXA8uXLGThwIIMGDeLCCy8EYMaMGaxcuTJcZ3XX2unWrVsXdoq3cOFCZs6cSXFxMX379q2x9/DjH/+Yk046iZNOOombbropI+3XnoKISJrzzjuP66+/nvHjx7Np0yZmzpzJs88+C8Dxxx/Ps88+S5s2bfjtb3/LNddcw4MPPsjPfvYzLr30UqZOncru3bvZu3cvmzdvZtGiRTz//PN07dqVf/zjH42u6fXXX+fpp5/mo48+4rjjjuO73/0umzZt4q677uKPf/wj7s7JJ5/MmDFjGDJkyCG1X6EgDabDY9KcDRw4kLKyMu655x7GjRtX47PKykqmT5/OW2+9hZmxZ88eAEaOHMkPf/hDysvLwwftrF27lilTptC1a1cAOnfu3OiazjrrLNq1a0e7du344he/yPbt23nuuec455xz6NChAwDnnnsuzz77rEJBsq+5HxZT/0AyceJErrjiCtatW1fjYTk/+MEPGDt2LA8//DBlZWVhX0YXXHABJ598Mo8++ijjxo3j9ttvP+i627Rpw759+wDYt28fu3fvrreeKF1uZ0qTOqdgZmeb2R1mdp+Z/VvS9UjLpK7PZebMmVx33XUMGDCgxvTKysrwxPOyZcvC6Vu3bqVv377MmzePSZMmsWnTJk477TQeeOCBMFSqDx/17t2bjRs3ArB69epwb6OhTj31VFatWsWnn37KJ598wsMPP5yR7rRj31Mws18A44H33P2ktOlnAjcDrYE73f1H7r4KWGVmXwD+G/ifuOsTkaYpyT7BevToUevjLktKSpg+fTqLFi3irLPOCqfff//9rFixgry8PLp168Y111xD586dWbBgAWPGjKF169YMGTKEZcuWcckllzBp0iQGDRrEmWeeGR7+aaihQ4cyY8YMRowYAcDFF198yIeOIDuHj5YBtwLLqyeYWWtgCfA1oBxYb2ar3f3VYJZrg89FRLKmtq6z07u8HjlyJG+++Wb42aJFiwC4+uqrufrqqw9Ydvr06UyfPr3GtCOPPJI//OEP4fgNN9wApPYgSktLD9jmwoULayxfPQ/A/PnzmT9/fsTWRRP74SN3fwbY/7T7CGCLu291993AvcAkS7kB+I27/6m29ZnZLDPbYGYbduzYEW/xIiItTFLnFLoD76SNlwfT5gKnA5PNbHZtC7r7UncvcveiwsLC+CsVEWlBmtTVR+7+EyD793WLSJPg7uFD6+XQuXuDl0lqT2EbcHTaeI9gmoi0UPn5+ezcubNRv8jkQO7Ozp07yc/Pb9BySe0prAeONbM+pMLgPOCCqAub2QRgQr9+/WIqT0SyrUePHpSXl6NzhZmTn59Pjx49GrRMNi5JvQcoBrqaWTlwnbv/3My+BzxB6pLUX7j75qjrdPc1wJqioqJL4qhZRLIvLy+PPn36JF1Gixd7KLj7+QeZ/hjwWNzbFxGR6JrUHc0iIpKsnAwFM5tgZksrKyuTLkVEpFnJyVBw9zXuPqugoCDpUkREmpUmdZ+CSHO3bE60R0x++N4H4XuUZWYsSa6fIGleFArSYkR95u/eyg/C9yjLJNlxm0im5WQo6D4FkZriCjxQ6LU0OqcgIiKhnAwFERGJh0JBRERCCgUREQkpFEREJJSToaA7mkVE4pGToaCrj0RE4pGToSAiIvFQKIiISEihICIiIYWCiIiEcjIUdPWRiEg8cjIUdPWRiEg8cjIUREQkHgoFEREJKRRERCSkUBARkZBCQUREQgoFEREJ6RnNIvvp2qF9jXeRliQnQ8Hd1wBrioqKLkm6Fml+rioennQJIonR4SMREQkpFEREJNSgUDCzjmbWMa5iREQkWZFCwcwGmNmfgc3Aq2a20cxOirc0ERHJtqh7CrcD8929l7v3BP4dWBpfWSIikoSoodDB3Z+uHnH3dUCHWCoSEZHERL0kdauZ/QBYEYx/C9gaT0kiIpKUqHsKM4FC4KHgVRhMExGRZiTSnoK7fwDMi7mWyHRHs4hIPKJefVRoZovN7DEzW1v9iru4g9GT10RE4lFnKJjZT4PBu4HXgT7AfwJlwPpYKxOpQ8e89nTKO4yOeeqfSCST6jt8dGzw3sXdf25ml7r774DfmZlCQRJzek/1TyQSh/pCYXfwvid4f9fMzgL+DnSOrSoREUlEfaFwdvC+yMwKSN20dgtwOHB5jHWJiEgC6gwFd98TvD8STKoExsZdlIiIJCPq1UePmNkRaeNfMLPVZtbJzHQYSUSkmYh6R3N3d/9n9Yi7f2BmQ4HrgPHA8THUJiLSICUlJVRUVNCtWzduvPHGpMvJSVFDYZ+Z9XD3cgAz6wm85+5XmNmX4itPRCS6iooKtm3blnQZOS1qKCwAnjOzZwADvgLMBnD3C2KqTUQEgL8vXRxpvr2VH4TvUZb50qwrD6mu5ihqNxePm1kRcEow6XJ3fz++skREGq5rh/Y13qXhou4pAOwF3gPygRPNDHd/Jp6yREQa7qpi3dR4qCKFgpldDFwK9ABeIrXH8AJwWmyViYhI1kXtOvtSYDjwtruPBYYA/4yrqPqY2QQzW1pZWZlUCSIizVLUUNjl7rsAzKydu78OHBdfWXVTL6kiIvGIek6hPLh5bRXwpJl9ALwdV1EiIpKMqFcfnRMMLjSzp4EC4DexVSUisdDVOVKfqCeaV7j7hQBB19mY2QrgwhhrE5EM09U5Up+o5xT6p4+YWWtgWObLERGRJNX35LXvm9lHwEAz+zB4fUTqfoVfZ6VCERHJmjpDwd3/y907AYvd/fDg1cndu7j797NUo4iIZEnUq49+Y2aj95+oO5pFRJqXqKGQ3mtUPjAC2IjuaBYRaVaiXpI6IX3czI4GboqjIBERSU7Uq4/2Vw6ckMlCREQkeVHvU7gF8GC0FTAY+FNMNYmISEKinlPYkDZcBdzj7r+PoR4REUlQ1HMKvzSztqSexezAG7FWJSIiiYh6+GgccDvwF1KP4+xjZt9xd/V/JCLSjEQ9fPRjYKy7bwEws2OAR1GneCIizUrUq48+qg6EwFbgoxjqERGRBEU+0WxmjwH3kzqnMAVYb2bnArj7QzHVJyIiWRQ1FPKB7cCYYHwH0B6YQCokFAoiIs1A1KuPLoq7EDPrCywACtx9ctzbExGRA0U6p2BmXzazp8ysNBgfaGbXRljuF2b2XvVyadPPNLM3zGyLmV0N4O5b3f3bjWmEiIhkRtQTzXcA3wf2ALj7JuC8CMstA85MnxA8oGcJ8HXgROB8MzsxYh0iIk1eSUkJ06ZNo6SkJOlSGixqKBzm7i/uN62qvoWCrrX/sd/kEcCWYM9gN3AvMCliHZjZLDPbYGYbduzYEXUxEZGsqaioYNu2bVRUVCRdSoNFDYX3g3sTHMDMJgPvNnKb3YF30sbLge5m1sXMfgYMMbODPsDH3Ze6e5G7FxUWFjayBJGmrWNeezrlHUbHvPZJlyItTNSrj+YAS4HjzWwb8FdgaiYLcfedwOxMrlMkV53ec3jSJUgLFfXqo63A6WbWgdTexaekzim83YhtbgOOThvvEUwTEZGE1Xn4yMwON7Pvm9mtZvY1UmEwHdgC/K9GbnM9cKyZ9Qk62TsPWN2QFZjZBDNbWllZ2cgSRESkNvWdU1gBHAe8AlwCPE3qbuZz3L3ek8Nmdg/wAnCcmZWb2bfdvQr4HvAE8Bpwv7tvbkjR7r7G3WcVFBQ0ZDEREalHfYeP+rr7AAAzu5PUyeWe7r4rysrd/fyDTH8MeKwhhYqISPzq21PYUz3g7nuB8qiBICIiuae+PYVBZvZhMGxA+2DcAHf3w2Ot7iDMbAIwoV+/fklsXkSk2apzT8HdW7v74cGrk7u3SRtOJBCCunROQUQkBlFvXhMRkRZAoSAiIiGFgoiIhHIyFHTzmohIPHIyFHSiWUQkHjkZCiIiEg+FgoiIhBQKIiISyslQ0IlmEZF45GQo6ESziEg8cjIUREQkHgoFEREJKRRERCSkUBARkVB9z1NokvQ8BRFJwrI5iyPN9+F7H4TvUZaZseTKQ6ork3JyT0FXH4mIxCMnQ0FEROKhUBARkZBCQUREQgoFEREJKRRERCSkUBARkVBOhoJ6SRURiUdOhoLuUxARiUdOhoKIiMRDoSAiIiGFgoiIhBQKIiISUiiIiEhIoSAiIiGFgoiIhBQKIiISyslQ0B3NIiLxyMlQ0B3NIiLxyMlQEBGReCgUREQkpFAQEZGQQkFEREIKBRERCSkUREQkpFAQEZGQQkFEREIKBRERCSkUREQkpFAQEZGQQkFEREI5GQrqJVVEJB45GQrqJVVEJB45GQoiIhIPhYKIiIQUCiIiElIoiIhISKEgIiIhhYKIiIQUCiIiElIoiIhISKEgIiIhhYKIiIQUCiIiElIoiIhISKEgIiIhhYKIiIQUCiIiElIoiIhISKEgIiIhhYKIiIQUCiIiEmqTdAHVzKwD8FNgN7DO3e9OuCQRkRYn1j0FM/uFmb1nZqX7TT/TzN4wsy1mdnUw+VxgpbtfAkyMsy4REald3IePlgFnpk8ws9bAEuDrwInA+WZ2ItADeCeYbW/MdYmISC1iPXzk7s+YWe/9Jo8Atrj7VgAzuxeYBJSTCoaXqCOszGwWMAugZ8+emS9aRCTL/r50cSzr/dKsKxu8TBInmrvz+R4BpMKgO/AQ8A0zuw1Yc7CF3X2puxe5e1FhYWG8lYqItDBN5kSzu38CXJR0HSIiLVkSewrbgKPTxnsE00REJGFJhMJ64Fgz62NmbYHzgNUNWYGZTTCzpZWVlbEUKCLSUsV9Seo9wAvAcWZWbmbfdvcq4HvAE8BrwP3uvrkh63X3Ne4+q6CgIPNFi4i0YHFffXT+QaY/BjwW57ZFRKTh1M2FiIiEcjIUdE5BRCQeORkKOqcgIhIPc/eka2g0M9sBvJ3FTXYF3s/i9rJN7ctdzbltoPZlWi93r/Xu35wOhWwzsw3uXpR0HXFR+3JXc24bqH3ZlJOHj0REJB4KBRERCSkUGmZp0gXETO3LXc25baD2ZY3OKYiISEh7CiIiElIoiIhISKFQi4M8Qzr983Zmdl/w+R9rebpckxWhbaPN7E9mVmVmk5Oo8VBEaN98M3vVzDaZ2VNm1iuJOhsrQvtmm9krZvaSmT0XPOo2Z9TXvrT5vmFmbmZN4jLOqCJ8fzPMbEfw/b1kZhdnvUh31yvtBbQG/gL0BdoCLwMn7jfP/wZ+FgyfB9yXdN0ZbFtvYCCwHJicdM0xtG8scFgw/N1c+e4a0L7D04YnAo8nXXcm2xfM1wl4BvgDUJR03Rn+/mYAtyZZp/YUDhQ+Q9rddwPVz5BONwn4ZTC8EviqmVkWa2ysetvm7mXuvgnYl0SBhyhK+55290+D0T+QeshTrojSvg/TRjsAuXQlSZT/ewD/B7gB2JXN4jIgavsSpVA40MGeIV3rPJ56PkQl0CUr1R2aKG3LZQ1t37eB38RaUWZFap+ZzTGzvwA3AvOyVFsm1Ns+MxsKHO3uj2azsAyJ+u/zG8HhzZVmdnQtn8dKoSAtkpl9CygCFiddS6a5+xJ3Pwa4Crg26XoyxcxaAT8G/j3pWmK0Bujt7gOBJ/n8iETWKBQOFOUZ0uE8ZtYGKAB2ZqW6Q9Pcn48dqX1mdjqwAJjo7v/KUm2Z0NDv717g7DgLyrD62tcJOAlYZ2ZlwCnA6hw62Vzv9+fuO9P+Td4JDMtSbSGFwoGiPEN6NTA9GJ4MrPXgLFETd8jPx27i6m2fmQ0BbicVCO8lUOOhiNK+Y9NGzwLeymJ9h6rO9rl7pbt3dffe7t6b1Dmhie6+IZlyGyzK93dU2uhEUo8szq6kz8g3xRcwDniT1JUCC4Jp15P6BwiQDzwAbAFeBPomXXMG2zac1LHOT0jt/WxOuuYMt++3wHbgpeC1OumaM9y+m4HNQdueBvonXXMm27ffvOvIoauPIn5//xV8fy8H39/x2a5R3VyIiEhIh49ERCSkUBARkZBCQUREQgoFEREJKRSkRTOzbmY2K+k6MsHMOprZnKTrkNymUJAmxcz2Br1DlprZGjM7op75F5rZFYewyYXAKWY2urErMLPrgxviosy7IK0HzL1pw5nojuKHpN2XYGbFZjYqbXy2mU3LwHakGdMlqdKkmNnH7t4xGP4l8Ka7/7CO+RcCH7v7fzdiW4cBXwUeBya4+0ONq7px0tuagXUdBpzl7g+kTVtII3820nJpT0GashcIOgwzs2PM7HEz22hmz5rZ8fvPXNs8ZlZgZm8H/eZgZh3M7B0zywOmAv8BbACmBr9YMbNlZvYTM3vezLamP1fCzK4Knlfwspn9KG3+ycHwf5jZ+mBPZ2mU3nPNrLWZLQ6W22Rm3wmmF5vZ78zs10EdPzKzqWb2YlDDMcF8E0jd6LTAzH5rZkda6hkfs4HLgz2RU9P3qsysXzDvy5Z6fsYxweGnp4LxV8ysyfXgKVmQ9B1+eumV/iL1ly2k+p5/ADgzGH8KODYYPplU1yKQOvxzRT3z/BoYGwx/E7gzGO6Stt1FwNxgeFmw7VbAiaS6Owb4OvA8nz+PoXPa/JPTpwXDK0jtgdTX1lnAtcFwO1Ih1QcoBv4JHBVM3wb8ZzDfpcBNwfAX+Hyv/zvA/9v/Z1PLz+qPwDnBcD5wGNCG4HkMQFdSd+xb0v8m9Mruq02diSGSfe3N7CVSewivAU+aWUdgFPBA2h/e7dIXqmee+0iFwdOk+pv5aTD9JDNbBBwBdASeSFvlKnffB7xqZkcG004H7vLgeQzu/o9a6h9rZiWkfsl2JtVlwZp62vxvwMC0PZIC4FhgN7De3d8N2vgX4H+CeV4h9cAggC8By4PzL4cBO+ramJl1Arq7+8NBO3YF0/OA/xucX9lH6js4Eqiop35pRhQK0tR85u6Dg0M5TwBzSP0l/k93H1zHcq3qmGc1qV92nUn1Ork2mL4MONvdXzazGaT+Mq+W3ntqpAcomVk+qcApcvd3gmP6+VEWJbWX8kSNiWbF+9WxL218H5///70VuMHdHzezscB1UeqtxVSgEBjm7nss1RNplPqlGdE5BWmSgr/G55HqO/9T4K9mNgXAUgbtN/+HB5vH3T8m1UPlzcAj7r43WKwT8G7a+YX6PAlclHbuofN+n1f/An0/2HOJ+ozrJ4DvBnVgZl82sw4Rl4XU4aPqvYPpadM/ItXGGtz9I6DczM4OttcuaFMB8F4QCGOBnHp+tWSGQkGaLHf/M7AJOJ/UL+1vm9nLpA7J1HYStK557gO+FbxX+wGpY+u/B16PUM/jpPY6NgSHuK7Y7/N/AncApaR+0a+vb52BO4FXgT+ZWSmprr0bshd/PbDSzDZS89DRGuCc6hPN+y1zITDPzDaROk/SDbgbKDKzV4BpRPiZSPOjS1JFRCSkPQUREQkpFEREJKRQEBGRkEJBRERCCgUREQkpFEREJKRQEBGR0P8HJudPR7oN53MAAAAASUVORK5CYII=\n",
      "text/plain": [
       "<Figure size 432x288 with 1 Axes>"
      ]
     },
     "metadata": {
      "needs_background": "light"
     },
     "output_type": "display_data"
    }
   ],
   "source": [
    "sns.barplot(x='RelevanciaTematica', y='Reputacao', palette=\"rocket\", alpha=0.7, data=comunidadesExclusivas, hue='Genero').set(xlabel='Relevância Temática', ylabel='Reputação', yscale='log')"
   ]
  },
  {
   "cell_type": "code",
   "execution_count": 15,
   "id": "f6e062e0",
   "metadata": {},
   "outputs": [
    {
     "data": {
      "text/html": [
       "<div>\n",
       "<style scoped>\n",
       "    .dataframe tbody tr th:only-of-type {\n",
       "        vertical-align: middle;\n",
       "    }\n",
       "\n",
       "    .dataframe tbody tr th {\n",
       "        vertical-align: top;\n",
       "    }\n",
       "\n",
       "    .dataframe thead th {\n",
       "        text-align: right;\n",
       "    }\n",
       "</style>\n",
       "<table border=\"1\" class=\"dataframe\">\n",
       "  <thead>\n",
       "    <tr style=\"text-align: right;\">\n",
       "      <th></th>\n",
       "      <th>Reputacao</th>\n",
       "      <th>RelevanciaTematica</th>\n",
       "    </tr>\n",
       "  </thead>\n",
       "  <tbody>\n",
       "    <tr>\n",
       "      <th>Reputacao</th>\n",
       "      <td>1.000000</td>\n",
       "      <td>-0.044377</td>\n",
       "    </tr>\n",
       "    <tr>\n",
       "      <th>RelevanciaTematica</th>\n",
       "      <td>-0.044377</td>\n",
       "      <td>1.000000</td>\n",
       "    </tr>\n",
       "  </tbody>\n",
       "</table>\n",
       "</div>"
      ],
      "text/plain": [
       "                    Reputacao  RelevanciaTematica\n",
       "Reputacao            1.000000           -0.044377\n",
       "RelevanciaTematica  -0.044377            1.000000"
      ]
     },
     "execution_count": 15,
     "metadata": {},
     "output_type": "execute_result"
    }
   ],
   "source": [
    "# Correlação entrr a Reputação e a Relevância Temática\n",
    "dados[['Reputacao', 'RelevanciaTematica']].corr()"
   ]
  },
  {
   "cell_type": "markdown",
   "id": "db7787f4",
   "metadata": {},
   "source": [
    "#### ⚪️ **3.** Existe relação entre a relevância dos comentários e o tempo de participação na plataforma?"
   ]
  },
  {
   "cell_type": "code",
   "execution_count": 16,
   "id": "d0ace360",
   "metadata": {},
   "outputs": [
    {
     "data": {
      "text/plain": [
       "[Text(0.5, 0, 'Relevância Temática'), Text(0, 0.5, 'Anos na Plataforma')]"
      ]
     },
     "execution_count": 16,
     "metadata": {},
     "output_type": "execute_result"
    },
    {
     "data": {
      "image/png": "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\n",
      "text/plain": [
       "<Figure size 432x288 with 1 Axes>"
      ]
     },
     "metadata": {
      "needs_background": "light"
     },
     "output_type": "display_data"
    }
   ],
   "source": [
    "sns.barplot(x='RelevanciaTematica', y='AnosPlataforma', palette=\"rocket\", alpha=0.7, data=dadosPlot, hue='Genero').set(xlabel='Relevância Temática', ylabel='Anos na Plataforma')"
   ]
  },
  {
   "cell_type": "code",
   "execution_count": 17,
   "id": "9d9c85c3",
   "metadata": {},
   "outputs": [],
   "source": [
    "comunidadesAbertas = comunidadesAbertas.round({\"RelevanciaTematica\":1})\n",
    "comunidadesExclusivas = comunidadesExclusivas.round({\"RelevanciaTematica\":1})"
   ]
  },
  {
   "cell_type": "code",
   "execution_count": 18,
   "id": "1d5b44cc",
   "metadata": {},
   "outputs": [
    {
     "data": {
      "text/plain": [
       "[Text(0.5, 0, 'Relevância Temática'), Text(0, 0.5, 'Anos na Plataforma')]"
      ]
     },
     "execution_count": 18,
     "metadata": {},
     "output_type": "execute_result"
    },
    {
     "data": {
      "image/png": "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\n",
      "text/plain": [
       "<Figure size 432x288 with 1 Axes>"
      ]
     },
     "metadata": {
      "needs_background": "light"
     },
     "output_type": "display_data"
    }
   ],
   "source": [
    "sns.barplot(x='RelevanciaTematica', y='AnosPlataforma', palette=\"rocket\", alpha=0.7, data=comunidadesAbertas, hue='Genero').set(xlabel='Relevância Temática', ylabel='Anos na Plataforma')"
   ]
  },
  {
   "cell_type": "code",
   "execution_count": 19,
   "id": "31a80a19",
   "metadata": {},
   "outputs": [
    {
     "data": {
      "text/plain": [
       "[Text(0.5, 0, 'Relevância Temática'), Text(0, 0.5, 'Anos na Plataforma')]"
      ]
     },
     "execution_count": 19,
     "metadata": {},
     "output_type": "execute_result"
    },
    {
     "data": {
      "image/png": "iVBORw0KGgoAAAANSUhEUgAAAX4AAAEGCAYAAABiq/5QAAAAOXRFWHRTb2Z0d2FyZQBNYXRwbG90bGliIHZlcnNpb24zLjUuMiwgaHR0cHM6Ly9tYXRwbG90bGliLm9yZy8qNh9FAAAACXBIWXMAAAsTAAALEwEAmpwYAAAg8klEQVR4nO3deXwV1fnH8c8jJOwuLBUVEKEUBQXUoIILq4iogLiguOFSakVBasUFW9FqtVrb0mpLcQG3n1Wo4o4LClRxISgiqwuKYEHQIoiAJuH5/XGHEEKWSXLnXm7m+3698srM3HPnPCdXH+aeOXOOuTsiIhIfu6U7ABERSS0lfhGRmFHiFxGJGSV+EZGYUeIXEYmZmukOIIzGjRt7y5Yt0x2GiEhGmTt37tfu3qT48YxI/C1btiQ3NzfdYYiIZBQzW17ScXX1iIjEjBK/iEjMKPGLiMSMEr+ISMwo8YuIxIwSv4hIzESW+M3sATNbY2YLihy708yWmNl8M3vKzPaMqn4RESlZlFf8k4C+xY69Ahzs7h2Aj4DrIqxfRERKENkDXO4+y8xaFjv2cpHdt4HTo6pfRKqv0aNHs3r1apo2bcodd9yR7nAyTjqf3L0IeLy0F81sGDAMoEWLFqmKSUQywOrVq/nyyy/THUbGSsvNXTMbA+QDj5ZWxt0nuHuOu+c0abLTVBMiIlJJKb/iN7OhwMlAL9e6jyIiKZfSxG9mfYHRQDd335TKukVEJCHK4ZyPAW8Bbc1spZldDNwNNABeMbN5ZjY+qvpFRKRkUY7qObuEw/dHVZ+IiISjJ3dFRGJGiV9EJGaU+EVEYkaJX0QkZpT4RURiRolfRCRmlPhFRGJGiV9EJGaU+EVEYkaJX0QkZtI5H79I7GlBEUkHJX6RNNKCIjv674Q7Q5UrWL+u8HeY9+w77OoqxVXdqKtHRCRmlPhFRGJGiV9EJGaU+EVEYkY3d0WqIY0WkrIo8YtUQxotJGVRV4+ISMwo8YuIxIwSv4hIzKiPX0qlG4Qi1ZMSv5RKNwhFqid19YiIxIwSv4hIzESW+M3sATNbY2YLihxraGavmNnHwe+9oqpfRERKFuUV/ySgb7Fj1wLT3b0NMD3Yz1ijR4/m/PPPZ/To0ekORSpBn5/EVWQ3d919lpm1LHZ4ANA92H4QmAFcE1UMUdPNz8ymz0/iKtWjevZ291XB9mpg79IKmtkwYBhAixYtUhBafGixC5F4S9twTnd3M/MyXp8ATADIyckptVwUlBhFdm2N69XZ4bdUTKoT/1dmto+7rzKzfYA1Ka5fRKqBa7p3TncIGS3VwzmfAS4Iti8Ank5x/SIisRflcM7HgLeAtma20swuBm4Hjjezj4Hewb6IiKRQlKN6zi7lpV5R1Zlq6mcUkUykuXqqQP2M0dNEcSLJp8QvpdoVvtForL1I8inxS6n0jUaketIkbSIiMaPELyISM0r8IiIxo8QvIhIzSvwiIjGjxC8iEjNK/CIiMaPELyISM3qAS6qVsGspgNZTkPgqN/GbWRMSyyO2A2pvO+7uPSOMS0REIhKmq+dRYDFwAHAT8DkwJ8KYREQkQmESfyN3vx/Ic/eZ7n4RoKt9EZEMFaaPPy/4vcrMTgL+CzSMLiQREYlSmMR/i5ntAVwF/A3YHRgVaVQiIhKZchO/uz8XbK4HekQbjlSUFioRkYoKM6rnAOAKoGXR8u7eP7qwkqs6J0ctVBIvYYerVnSoKmi4apyE6eqZCtwPPAtsjTSaiCg5iohsFybxb3H3v0YeiYiIpESYxD/OzG4EXgZ+2HbQ3d+LLCoREYlMmMR/CHAeibH727p6nF1gLP+k4eH6LjesWVf4O8x7+nSsUlgiIru0MIn/DKCVu/8YdTAiIhK9MIl/AbAnsCbaUKSoqL7NwK7xjUbf1kTSJ0zi3xNYYmZz2LGPP2OGc4qIyHZhEv+Nya7UzEYBl5C4V/AhcKG7b0l2PdvUz6qzw28RkTgrM/GbWQ3gn+5+YLIqNLP9gBFAO3ffbGZPAGcBk5JVR3G9W3SO6tQiIhmnzNk53b0AWGpmLZJcb02gjpnVBOqSmPhNRERSIExXz17AQjN7F/h+28HK9vG7+5dm9kfgC2Az8LK7v1y8nJkNA4YBtGiR7H93RETiK0zi/00yKzSzvYABJBZ2+RaYbGbnuvsjRcu5+wRgAkBOTo4nMwYRkTgrdyEWd58JLAEaBD+Lg2OV1Rv4zN3Xunse8CTQtQrni7X6WXVokFVXN65FJLQws3OeCdwJzAAM+JuZXe3uUypZ5xfAUWZWl0RXTy8gt5Lnij3duBaRigrT1TMG6Ozua6Bw8fVXgUolfnd/x8ymAO8B+cD7BF06IiISvTCJf7dtST/wDeHW6i2Vu99IBM8HiFRE43p1dvgtEhdhEv80M3sJeCzYHwy8EF1IIqlxTXd1k0k8lZr4zayWu//g7leb2SDgmOClCe7+VGrCExGRZCvriv8t4DAze9jdzyMx+kZERDJcWYk/28yGAF2DK/4duLv+IRARyUBlJf5LgXNIzM55SrHXHH0DEBHJSKUmfnd/A3jDzHLd/f4UxiQiIhEqd1SPu99vZgcD7YDaRY4/FGVgIiISjTBP7t4IdCeR+F8ATgTeAJT4RUQyUJgHsU4nMa3Cane/EOgI7BFpVCIiEpkwiX+zu28F8s1sdxJr7zaPNiwREYlKmCd3c81sT+BeYC6wkcQYfxERyUBhbu5eFmyON7NpwO7uPj/asEQy26Thd4Yqt2HNusLfYd7Tp2OVwhIBQnT1mNn0bdvu/rm7zy96TEREMktZc/XUJrEebuNg1SwLXtod2C8FsYmISATK6ur5BXAlsC+Jvv1tiX8DcHe0YYmISFTKenJ3HDDOzK5w97+lMCaRQtuWlNTSkiLJE+bm7t/05K6ki5aWFEk+PbkrIhIzenJXpBpqXK8OTevX1bKSUqIwD3BtdvetZqYnd0UyhJaVlLLoyV0RkZjRk7siIjFT1gNch5X1mru/F01IIiISpbKu+O8q4zUHeiY5FhERSYGyHuDqkcpAREQkNUodzmlmbcxsqpktMLPHzCxp8/OY2Z5mNsXMlpjZYjPrkqxzi4hI2coax/8A8DxwGvAekMxpG8YB09z9QBLPBSxO4rlFRKQMZfXxN3D3e4PtO80sKTdzzWwP4DhgKIC7/wj8mIxzi4hI+cpK/LXN7FC2z8pZp+h+FUb1HACsBSaaWUcSzwaMdPfvixYys2HAMIAWLVpUsioRESmurMS/CvhTkf3VRfarMqqnJnAYcIW7v2Nm44Brgd8ULeTuE4AJADk5OV7JukREpJh0jOpZCax093eC/SkkEr+IiKRAmEnaksrdVwMrzKxtcKgXsCjVcYiIxFWYuXqicAXwqJllA8uAC9MUh4hI7KQl8bv7PCAnHXWLiMRdqMQfLLbehh1X4JoVVVAiIhKdMCtwXQKMBJoB84CjSEzLrLl6REQyUJibuyOBzsDyYKTPocC3UQYlIiLRCZP4t7j7FgAzq+XuS4C25bxHRER2UWH6+FcGK3BNBV4xs3XA8iiDEhGR6IRZgevUYHOsmb1OYqH1aZFGJSIikQk7qqcGsDfwWXCoKfBFVEGJiEh0wozquQK4EfgK2BocdqBDhHGJiEhEwlzxjwTauvs3UQcjIiLRCzOqZwWwPupAREQkNcJc8S8DZpjZ88AP2w66+59Kf4uIiOyqwiT+L4Kf7OBHRESA0aNHs3r1apo2bcodd9yR7nBCCzOc86ZUBCIikmlWr17Nl19+me4wKixd0zKLCFA/q84Ov0VSQYlfJI16t+ic7hAkhlK+ApeIiKRXuYnfzO4ws93NLMvMppvZWjM7NxXBiYhI8oW54u/j7huAk4HPgZ8CV0cZlIiIRCdM4t92H+AkYLK762EuEZEMFubm7nNmtgTYDPzSzJoAW6INS0REolLuFb+7Xwt0BXLcPQ/4HhgQdWAiIhKNMLNzZgHnAseZGcBMYHzEcYmISETCdPX8A8gC/h7snxccuySqoEREJDphEn9nd+9YZP81M/sgqoBERCRaYUb1FJhZ6207ZtYKKIguJBERiVKYK/6rgdfNbBlgwP7AhZFGJSIikQkzO+d0M2sDtA0OLXX3H8p6TxjBOr65wJfufnJVzyciIuGEnaTtcKBlUL6TmeHuD1Wx7pHAYmD3Kp5HREQqIMxwzoeB1sA8tvftO1DpxG9mzUg8CXwr8KvKnkdERCouzBV/DtDO3T2J9f4FGA00KK2AmQ0DhgG0aNEiiVWLiKTHfyfcGcl59x1WsenTwozqWQA0rVQ0JTCzk4E17j63rHLuPsHdc9w9p0mTJsmqXkQk9sJc8TcGFpnZu+y42Hr/StZ5NNDfzPoBtYHdzewRd9dUzyIiKRAm8Y9NZoXufh1wHYCZdQd+raQvIpI6YYZzziy6b2bHAGeTmLNHREQyTKjhnGZ2KDAEOAP4DPh3Mip39xnAjGScS0REwik18ZvZz0hc2Z8NfA08Dpi790hRbCIiEoGyrviXAP8BTnb3TwDMbFRKohIRkciUNZxzELCKxDw995pZLxJz9YiISAYrNfG7+1R3Pws4EHgduBL4iZn9w8z6pCg+ERFJsjBLL37v7v/n7qcAzYD3gWsij0xERCIR5sndQu6+LniitldUAYmISLQqlPhFRCTzKfGLiMSMEr+ISMwo8YuIxEzYFbh2OXl5ebQ64VDqNKyf9KcL/peV3PNts37x4tBl2w85NpogKL19NTZtpP6yBdTIz4usbhFJv4xN/CtXrqRZm/1pUKc+ZsnN/LvXTerpCmU3Cb+swdfLV0cTBCW3z91Z991G1gF7fPR+ZHWLZIJJw8MtmLJhzbrC32He06djlcJKmozt6tmyZUskST+uzIy9GtSnoG79dIciIhHL2MQPKOknmf6eIvGQ0YlfREQqTom/HF+tWcv5l15G25wjOap3H4478WSefv6FdIclIlJpGXtzNxXcnTMuuJBzB5/BQ+P/DsDyFSt47qWXI6szPz+fmjX1sYhIdHTFX4bX//MG2dlZDBt6QeGx/Zs3Z/glF1NQUMC1Y2+ma5++HN6tJ/c++BAAM9+czfEDB3HWRZdwSNdjuODSy3B3AObOnUu3bt04/PDDOeGEE1i1ahUA3bt358orryQnJ4dx48Yxffp0evQ7nuNO6MGIq0fxww8/7ByciEglKfGXYdHSpXTqcEiJr0189P/YY/cGzH55GrNffpEHHnmUz5Z/AcC8Dxfwx1tu5oM3ZvHZ8i+Y/c675OXlccUVVzBlyhTmzp3LRRddxJgxYwrP9+OPP5Kbm8vw4cMZOnQo9909nlkvvU5BQT4TH3kwJe0VkXhQn0IFjLjmOma/8y7Z2Vm0aNaMDxct5slnnwdg/Xcb+GTZMrKzs8k59FCa7bsvAB0Obs/yFSvYc489WLBgAccffzwABQUF7LPPPoXnHjx4MABLly7lgAMOoHWr1onjp53JAw9N5NKLh6WyqSJSjSnxl6Fd27ZMfe75wv2//uE2vv7mG7r26Uvz/fbjz7+/hT49d1yCeOabs6lVK7twv0aNGuQXFODutG/fnrfeeqvEuurVqxdNI0REilFXTxl6HHsMW374gX9O3N7VsmnzZgCO79GdCZMeJC8vMb3BR59+yvffbyr1XD/7aWvWrl1bmPjz8vJYuHDhTuXatm3L559/zrLPPwPgiSen0OXILslqkoiIrvjLYmZMfnAiV//mRu665x6aNGpEvbp1ufU3N3Ba/1NYvmIFR/bug7vTpFEjJj84sdRzZWdnM2XKFEaMGMH69evJz8/nyiuvpH379juUq127NhMnTuTiy4ZRUJBPpw6dGHrO+VE3VURiRIm/HPvsvTePTBhf4mu/G3M9vxtz/Q7Huh3dlW5Hdy3cH3f77wu3O3XqxKxZs3Y6z4wZM3bY79WrF6+/8EoVohYRKZ26ekREYiblid/MmpvZ62a2yMwWmtnIVMcgIhJn6ejqyQeucvf3zKwBMNfMXnH3RWmIRUQkdlJ+xe/uq9z9vWD7O2AxsF+q4xARiau09vGbWUvgUOCdEl4bZma5Zpa7du3alMcmIlJdpS3xm1l94N/Ale6+ofjr7j7B3XPcPadJkyapD1BEpJpKy3BOM8sikfQfdfcnk3HOJ2+6NxmnAaBmDTj39z8vt1ydpvtx8EEHFe5PfnAiLVs0r1LdXbt2Zfbs2WWWufKaq/jlJcNo26ZtleoSkXhKeeK3xDJP9wOL3f1Pqa4/merUrs2c119N6jnLS/oAf/nDXUmtU0TiJR1dPUcD5wE9zWxe8NMvDXFE4r0PPqD3gFM5qncfTjrzLFZ99RUAxw8cxKhRo8jJyeGggw5izpw5DBo0iDZt2nDDDTcUvr9+/cSat2++NZsBgwdx4S8voUvPY7h05PbpnQcMHsS8+fMA2L9da2698za69+1F34EnsSa4H/LFihWcevbpdOvbk0FDzmDllytT+FcQkV1ZOkb1vOHu5u4d3L1T8JORS1pt3rKFzj1607lHb8644ELy8vIYdd0NPHb/vbz96ssMHXI2N/7+9sLy2dnZ5ObmcumllzJgwADuueceFixYwKRJk/jmm292Ov+HixZw629v5s1XZ7H8iy94J/fdncps2rSJnEMPZ8a06XQ58ige/tcjAFw3dgyDTzuTmdNe47SBg7h+7A07vVdE4klTNlRB8a6ehYuXsHDJEvqdcRYABVsLaPqTnxS+3r9/fwAOOeQQ2rdvXzgtc6tWrVixYgWNGjXa4fyHdTyUffdJTO98cLv2rFi5gqM6H7lDmezsbPr0Skz13OHgDsx8IzElRO57uUwafz8AZ556Ojff9ruktVtEMpsSfxK5O+3atmXWi8+V+HqtWrUA2G233Qq3t+3n5+fvVD47e/v0zrvVqEF+fsFOZWrWrEnitkkwBXQJ5xERKUpz9STRz37amrXffMPbc3KBxNTLi5YsTUssnQ/vzFPPTgVgytQnd/qmICLxVW2u+AfdWP7wy7B2r1u592VnZ/Ov++/lV2NuYP2G78gvyOeKYT+n3YGpH3Z529hbGHH1KO6Z8A8aNWzEX+/8c8pjEJFdU7VJ/Onwv88/3elYx0MOZvozU3c6/srUJ8lu0hRILK7evXv3wteKTsu8ceNGAI7u0pWju2yf3vkPN2+f3vnpx7c/+rB80fYY+vc7mf79TgagebPmPPXYlIo1SERiQV09IiIxo8QvIhIzSvwiIjGjxC8iEjNK/CIiMaPELyISM9VmOOfGqfcl7VxbasBPBl9SbrlaP9mHs08bxKR/3ANAfn4++x/Skc6HHcbURx9OWjwl+WLFCs65+Dz+8/IM5s2fx+NPTuG2sbdEWqeIVA/VJvGnQ726dVm4ZCmbN2+mTp06vDpzJvs23SflcXTq0IlOHTqlvF4RyUzq6qmivr178uKr0wF44smpDD51YOFrc957n+NOPJkjeh5Pt36nsHRpYvqGhQsXcsQRR9CpUyc6dOjAxx9/DMBDDz1Ehw4d6NixI5eNuhyAy68ayTMvbJ/7Z/92rXeK4c23ZjPkovMAuOPPf2TE1aMYMHgQOcceyYSJ278J/eO+8RzbpzuHHtedv/5zQnL/ECIxVD+rDg2y6lI/q066Q6kQXfFX0ZkDB3LrXX+i3/G9+XDRYi4YcjZvvJNYQrhtm5/y2rNTqVmzJtNnzuL666/n3//+N+PHj2fkyJGcc845/PjjjxQUFLBw4UJuueUWZs+eTePGjfn4g8WVjumTTz/hqcemsPH7jXTpeSwXnnsBi5Ys4rHJjzNt6gs0qO0cc2I/juvahU6HHJKsP4VI7PRu0TndIVSKEn8VHdK+HctXrODxp6bSt3fPHV5bv2EDF18+gk8++wwzI39rYiGVLl26cOutt7Jy5crCxVhee+01zjjjDBo3bgzAXnvuVemYevfsRa1atahVqxaNGzVi7ddreXvOu/Q74UTq1a1L/bow8KR+vPH2O0r8IjGkrp4kOPmEE7h27M0MPvXUHY7fdPsddDvmaN6fNYMnH36ILVu2ADBkyBCeeeYZ6tSpQ79+/XjttddKPXfNmjXZunUrAFu3biUvL6/ceGplb5/yuUYp0zmLSHwp8SfBBUPOYsyvf8XB7Q7a4fj6DRvYr2liYraH//V44fFly5bRqlUrRowYwYABA5g/fz49e/Zk8uTJhStxrft2HQDNmzVj/ofzAZj2ykuhEn9JjjriSF58eRqbNm/i++838fQLL3LMUZqqWSSOqk1XT/2B5Q+/DKui0zI323dfLv/5zvVfdflwLr5iJLf9eRwnHt+r8PgTTzzBww8/TFZWFk2bNuX666+nYcOGjBkzhm7dulGjRg0OanMgd981jvPOOpfzfz6U7n170bNbD+rWrdyc0R0P7sBZp5/JCQP6sdtucOE5Q9TNIxJTtm0B711ZTk6O5+bm7nBs8eLFNKlb+X7wslR2Pv7ybJuWOYyvl6+OJgjKbt9Hn31Ow3n/qdR59x12deiyk4bfWak6ytOnYySnBdS+VPjvhGj+bhVtW6Z9fqW1z8zmuntO8ePq6hERiRklfhGRmMnoxJ8J3VSZRH9PkXjI2MRfu3Ztvtu8UckqSdyddd9tpMamjekORUQilrGjepo1a8ZbL86kTsP6YMk9d52s5J5vmxpfrwtdduP/1kcTBKW3r8amjdRftiCyekVk15CxiT8rK4tlL70fyblTfee9JFGNKoBoR4aIyK4vLV09ZtbXzJaa2Sdmdm06YhARiauUJ34zqwHcA5wItAPONrN2qY5DRCSu0nHFfwTwibsvc/cfgX8BA9IQh4hILKX8yV0zOx3o6+6XBPvnAUe6++XFyg0DhgW7bYGlKQyzMfB1CutLtercvurcNlD7Ml2q27e/uzcpfnCXvbnr7hOAtKwWYma5JT3mXF1U5/ZV57aB2pfpdpX2paOr50ugeZH9ZsExERFJgXQk/jlAGzM7wMyygbOAZ9IQh4hILKW8q8fd883scuAloAbwgLsvTHUc5ajuC9JW5/ZV57aB2pfpdon2ZcS0zCIikjwZO1ePiIhUjhK/iEjMxDrxlzd1hJnVMrPHg9ffMbOWaQizUkK07Tgze8/M8oNnKzJKiPb9yswWmdl8M5tuZvunI87KCtG+S83sQzObZ2ZvZNrT72GnbTGz08zMzSztQyArIsTnN9TM1gaf3zwzS97asWG4eyx/SNxY/hRoBWQDHwDtipW5DBgfbJ8FPJ7uuJPYtpZAB+Ah4PR0xxxB+3oAdYPtX2bKZ1eB9u1eZLs/MC3dcSezfUG5BsAs4G0gJ91xJ/nzGwrcna4Y43zFH2bqiAHAg8H2FKCXmSV5EuhIlNs2d//c3ecDW9MRYBWFad/r7r4p2H2bxPMimSJM+zYU2a0HZNIojbDTtvwO+AOwJZXBJcEuPy1NnBP/fsCKIvsrg2MllnH3fGA90Cgl0VVNmLZlsoq272LgxUgjSq5Q7TOz4Wb2KXAHMCJFsSVDue0zs8OA5u7+fCoDS5Kw/32eFnRFTjGz5iW8Hpk4J36JATM7F8gBolvgIE3c/R53bw1cA9yQ7niSxcx2A/4EXJXuWCL0LNDS3TsAr7C9ZyEl4pz4w0wdUVjGzGoCewDfpCS6qqnu02KEap+Z9QbGAP3d/YcUxZYMFf38/gUMjDKgJCuvfQ2Ag4EZZvY5cBTwTAbd4C3383P3b4r8N3kfcHiKYgPinfjDTB3xDHBBsH068JoHd2Z2cdV9Woxy22dmhwL/JJH016QhxqoI0742RXZPAj5OYXxVVWb73H29uzd295bu3pLEPZr+7p6bnnArLMznt0+R3f7A4hTGF99RPUH+7gd8ROIO/Jjg2M0k/iMDqA1MBj4B3gVapTvmJLatM4m+x+9JfItZmO6Yk9y+V4GvgHnBzzPpjjnJ7RsHLAza9jrQPt0xJ7N9xcrOIING9YT8/G4LPr8Pgs/vwFTGpykbRERiJs5dPSIisaTELyISM0r8IiIxo8QvIhIzSvwSC2bW1MyGpTuOZDCz+mY2PN1xSOZS4pe0MLOCYFbCBWb2rJntWU75sWb26ypUORY4ysyOq+wJzOzm4KGwMGXHFJl5saDIdjKmVriVIuP2zay7mXUtsn+pmZ2fhHqkmtJwTkkLM9vo7vWD7QeBj9z91jLKjwU2uvsfK1FXXaAXMA04xd2frFzUlVO0rUk4V13gJHefXOTYWCr5t5F40hW/7AreIpjEysxam9k0M5trZv8xswOLFy6pjJntYWbLg3leMLN6ZrbCzLKAc4DfArnAOUHyxMwmmdlfzWy2mS0rui6BmV0TzHf/gZndXqT86cH2b81sTvCNZUKYWVvNrIaZ3Rm8b76Z/SI43t3MZprZ00Ect5vZOWb2bhBD66DcKSQe9hljZq+a2d6WWCPiUmBU8I3i2KLfjszsp0HZDyyx/kLroKtoerD/oZntUjNHSgqk+wk3/cTzh8QVKiTmLp8M9A32pwNtgu0jSUyTAYmuml+XU+ZpoEewPRi4L9huVKTeW4Argu1JQd27Ae1ITKULcCIwm+3z+TcsUv70oseC7YdJfJMor63DgBuC7Vok/iE6AOgOfAvsExz/ErgpKDcS+EuwvRfbv6X/Arir+N+mhL/VO8CpwXZtoC5Qk2A+f6AxiSfTLd3/TegndT81y/xXQSQ6dcxsHokr/cXAK2ZWH+gKTC5yAV2r6JvKKfM4iYT/Oon5Uf4eHD/YzG4B9gTqAy8VOeVUd98KLDKzvYNjvYGJHszn7+7/KyH+HmY2mkQibUji8ftny2lzH6BDkW8WewBtgB+BOe6+Kmjjp8DLQZkPSSwqA7Av8FBwP6QusLasysysAbCfuz8VtGNLcDwL+H1wv2Mric9gb2B1OfFLNaHEL+my2d07Bd0uLwHDSVxRf+vuncp4325llHmGREJrSGK2w9eC45OAge7+gZkNJXGFvU3RWTtDLbJjZrVJ/KOS4+4rgj722mHeSuLbxks7HDTrXiyOrUX2t7L9/9O7gT+4+zQz6wHcGCbeEpwDNAEOd/c8S8yAGSZ+qSbUxy9pFVxVjyAx9/om4DMzOwPAEjoWK7+htDLuvpHEzIjjgOfcvSB4WwNgVZH+/vK8AlxY5F5Aw2Kvb0uSXwffQMKuWfwS8MsgDszsZ2ZWL+R7IdHVs+0q/4Iix78j0cYduPt3wEozGxjUVyto0x7AmiDp9wAyaj1iqTolfkk7d38fmA+cTSIxX2xmH5DoPinpxmNZZR4Hzg1+b/MbEn3dbwJLQsQzjcS3h9ygO+rXxV7/FrgXWEAimc8p75yB+4BFwHtmtoDEtNEV+dZ9MzDFzOayYzfPs8Cp227uFnvPecAIM5tP4r5FU+BRIMfMPgTOJ8TfRKoXDecUEYkZXfGLiMSMEr+ISMwo8YuIxIwSv4hIzCjxi4jEjBK/iEjMKPGLiMTM/wNqdENOBsSYawAAAABJRU5ErkJggg==\n",
      "text/plain": [
       "<Figure size 432x288 with 1 Axes>"
      ]
     },
     "metadata": {
      "needs_background": "light"
     },
     "output_type": "display_data"
    }
   ],
   "source": [
    "sns.barplot(x='RelevanciaTematica', y='AnosPlataforma', palette=\"rocket\", alpha=0.7, data=comunidadesExclusivas, hue='Genero').set(xlabel='Relevância Temática', ylabel='Anos na Plataforma')"
   ]
  },
  {
   "cell_type": "code",
   "execution_count": 20,
   "id": "ca356d16",
   "metadata": {},
   "outputs": [
    {
     "data": {
      "text/html": [
       "<div>\n",
       "<style scoped>\n",
       "    .dataframe tbody tr th:only-of-type {\n",
       "        vertical-align: middle;\n",
       "    }\n",
       "\n",
       "    .dataframe tbody tr th {\n",
       "        vertical-align: top;\n",
       "    }\n",
       "\n",
       "    .dataframe thead th {\n",
       "        text-align: right;\n",
       "    }\n",
       "</style>\n",
       "<table border=\"1\" class=\"dataframe\">\n",
       "  <thead>\n",
       "    <tr style=\"text-align: right;\">\n",
       "      <th></th>\n",
       "      <th>AnosPlataforma</th>\n",
       "      <th>RelevanciaTematica</th>\n",
       "    </tr>\n",
       "  </thead>\n",
       "  <tbody>\n",
       "    <tr>\n",
       "      <th>AnosPlataforma</th>\n",
       "      <td>1.000000</td>\n",
       "      <td>-0.054152</td>\n",
       "    </tr>\n",
       "    <tr>\n",
       "      <th>RelevanciaTematica</th>\n",
       "      <td>-0.054152</td>\n",
       "      <td>1.000000</td>\n",
       "    </tr>\n",
       "  </tbody>\n",
       "</table>\n",
       "</div>"
      ],
      "text/plain": [
       "                    AnosPlataforma  RelevanciaTematica\n",
       "AnosPlataforma            1.000000           -0.054152\n",
       "RelevanciaTematica       -0.054152            1.000000"
      ]
     },
     "execution_count": 20,
     "metadata": {},
     "output_type": "execute_result"
    }
   ],
   "source": [
    "# Correlação entre os Anos de Participação e a Relevância Temática\n",
    "dados[['AnosPlataforma', 'RelevanciaTematica']].corr()"
   ]
  },
  {
   "cell_type": "code",
   "execution_count": 21,
   "id": "adfb3e91",
   "metadata": {},
   "outputs": [
    {
     "data": {
      "text/html": [
       "<div>\n",
       "<style scoped>\n",
       "    .dataframe tbody tr th:only-of-type {\n",
       "        vertical-align: middle;\n",
       "    }\n",
       "\n",
       "    .dataframe tbody tr th {\n",
       "        vertical-align: top;\n",
       "    }\n",
       "\n",
       "    .dataframe thead th {\n",
       "        text-align: right;\n",
       "    }\n",
       "</style>\n",
       "<table border=\"1\" class=\"dataframe\">\n",
       "  <thead>\n",
       "    <tr style=\"text-align: right;\">\n",
       "      <th></th>\n",
       "      <th>AnosPlataforma</th>\n",
       "      <th>Reputacao</th>\n",
       "    </tr>\n",
       "  </thead>\n",
       "  <tbody>\n",
       "    <tr>\n",
       "      <th>AnosPlataforma</th>\n",
       "      <td>1.000000</td>\n",
       "      <td>0.248564</td>\n",
       "    </tr>\n",
       "    <tr>\n",
       "      <th>Reputacao</th>\n",
       "      <td>0.248564</td>\n",
       "      <td>1.000000</td>\n",
       "    </tr>\n",
       "  </tbody>\n",
       "</table>\n",
       "</div>"
      ],
      "text/plain": [
       "                AnosPlataforma  Reputacao\n",
       "AnosPlataforma        1.000000   0.248564\n",
       "Reputacao             0.248564   1.000000"
      ]
     },
     "execution_count": 21,
     "metadata": {},
     "output_type": "execute_result"
    }
   ],
   "source": [
    "# Correlação entre os Anos de Participação e Reputação\n",
    "dados[['AnosPlataforma', 'Reputacao']].corr()"
   ]
  },
  {
   "cell_type": "markdown",
   "id": "e3461bbb",
   "metadata": {},
   "source": [
    "#### 🟡 **4.** Qual a diferença entre número de tópicos postados por homens e mulheres?"
   ]
  },
  {
   "cell_type": "code",
   "execution_count": 22,
   "id": "c690d65f",
   "metadata": {},
   "outputs": [
    {
     "name": "stdout",
     "output_type": "stream",
     "text": [
      "Número de Issues Feitas por Homens: 0\n",
      "Número de Issues Feitas por Mulheres: 0\n"
     ]
    }
   ],
   "source": [
    "issuesHomens = int(dadosIssues[dadosIssues['Genero'] == 'male'][['NumeroIssue']].count())\n",
    "issuesMulheres = int(dadosIssues[dadosIssues['Genero'] == 'female'][['NumeroIssue']].count())\n",
    "\n",
    "print('Número de Issues Feitas por Homens: '+str(issuesHomens))\n",
    "print('Número de Issues Feitas por Mulheres: '+str(issuesMulheres))"
   ]
  },
  {
   "cell_type": "code",
   "execution_count": 23,
   "id": "279553c9",
   "metadata": {},
   "outputs": [
    {
     "data": {
      "text/plain": [
       "[Text(0.5, 0, 'Gênero'), Text(0, 0.5, 'Issues Reportadas')]"
      ]
     },
     "execution_count": 23,
     "metadata": {},
     "output_type": "execute_result"
    },
    {
     "data": {
      "image/png": "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\n",
      "text/plain": [
       "<Figure size 432x288 with 1 Axes>"
      ]
     },
     "metadata": {
      "needs_background": "light"
     },
     "output_type": "display_data"
    }
   ],
   "source": [
    "sns.set_palette(sns.color_palette(\"rocket\", 1))\n",
    "sns.histplot(data=dadosIssues, x='Genero').set(xlabel='Gênero', ylabel='Issues Reportadas')"
   ]
  },
  {
   "cell_type": "code",
   "execution_count": 24,
   "id": "d48c6fb0",
   "metadata": {},
   "outputs": [
    {
     "name": "stdout",
     "output_type": "stream",
     "text": [
      "Número de Issues Feitas por Homens: 0\n",
      "Número de Issues Feitas por Mulheres: 0\n"
     ]
    }
   ],
   "source": [
    "dadosIssues = dadosIssues[214::]\n",
    "issuesHomens = int(dadosIssues[dadosIssues['Genero'] == 'male'][['NumeroIssue']].count())\n",
    "issuesMulheres = int(dadosIssues[dadosIssues['Genero'] == 'female'][['NumeroIssue']].count())\n",
    "\n",
    "print('Número de Issues Feitas por Homens: '+str(issuesHomens))\n",
    "print('Número de Issues Feitas por Mulheres: '+str(issuesMulheres))"
   ]
  },
  {
   "cell_type": "code",
   "execution_count": 25,
   "id": "c3e2acc1",
   "metadata": {},
   "outputs": [
    {
     "name": "stdout",
     "output_type": "stream",
     "text": [
      "Número de Issues Feitas por Homens: 112\n",
      "Número de Issues Feitas por Mulheres: 102\n"
     ]
    }
   ],
   "source": [
    "dadosIssues = pd.read_csv('dadosGitHubIssues.csv', index_col=None, header=0)\n",
    "dadosIssues = dadosIssues[:214]\n",
    "issuesHomens = int(dadosIssues[dadosIssues['Genero'] == 'male'][['NumeroIssue']].count())\n",
    "issuesMulheres = int(dadosIssues[dadosIssues['Genero'] == 'female'][['NumeroIssue']].count())\n",
    "\n",
    "print('Número de Issues Feitas por Homens: '+str(issuesHomens))\n",
    "print('Número de Issues Feitas por Mulheres: '+str(issuesMulheres))"
   ]
  },
  {
   "cell_type": "markdown",
   "id": "88c49f76",
   "metadata": {},
   "source": [
    "#### 🟠 **5**. Qual a diferença entre número de comentários postados por homens e mulheres?"
   ]
  },
  {
   "cell_type": "code",
   "execution_count": 26,
   "id": "c0ad8ee4",
   "metadata": {},
   "outputs": [
    {
     "name": "stdout",
     "output_type": "stream",
     "text": [
      "Número de Comentários Feitos por Homens: 0\n",
      "Número de Comentários Feitos por Mulheres: 0\n",
      "Número de Comentários Feitos sem Identificação: 0\n",
      "Número de Comentários Feitos por Bots: 0\n"
     ]
    }
   ],
   "source": [
    "comentariosHomens = int(dados[dados['Genero'] == 'male'][['RelevanciaTematica']].count())\n",
    "comentariosMulheres = int(dados[dados['Genero'] == 'female'][['RelevanciaTematica']].count())\n",
    "comentariosNone = int(dados[dados['Genero'] == 'None'][['RelevanciaTematica']].count())\n",
    "comentariosBot = int(dados[dados['Genero'] == 'bot'][['RelevanciaTematica']].count())\n",
    "\n",
    "print('Número de Comentários Feitos por Homens: '+str(comentariosHomens))\n",
    "print('Número de Comentários Feitos por Mulheres: '+str(comentariosMulheres))\n",
    "print('Número de Comentários Feitos sem Identificação: '+str(comentariosNone))\n",
    "print('Número de Comentários Feitos por Bots: '+str(comentariosBot))"
   ]
  },
  {
   "cell_type": "code",
   "execution_count": 27,
   "id": "9a30dae5",
   "metadata": {},
   "outputs": [
    {
     "data": {
      "text/plain": [
       "[Text(0.5, 0, 'Gênero'), Text(0, 0.5, 'Comentários Feitos')]"
      ]
     },
     "execution_count": 27,
     "metadata": {},
     "output_type": "execute_result"
    },
    {
     "data": {
      "image/png": "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\n",
      "text/plain": [
       "<Figure size 432x288 with 1 Axes>"
      ]
     },
     "metadata": {
      "needs_background": "light"
     },
     "output_type": "display_data"
    }
   ],
   "source": [
    "sns.set_palette(sns.color_palette(\"rocket\", 1))\n",
    "sns.histplot(data=dados, x='Genero').set(xlabel='Gênero', ylabel='Comentários Feitos')"
   ]
  },
  {
   "cell_type": "code",
   "execution_count": 28,
   "id": "91abc889",
   "metadata": {},
   "outputs": [
    {
     "name": "stdout",
     "output_type": "stream",
     "text": [
      "Número de Comentários Feitos por Homens: 0\n",
      "Número de Comentários Feitos por Mulheres: 0\n",
      "Número de Comentários Feitos sem Identificação: 0\n",
      "Número de Comentários Feitos por Bots: 0\n"
     ]
    }
   ],
   "source": [
    "comentariosHomens = int(comunidadesAbertas[comunidadesAbertas['Genero'] == 'male'][['RelevanciaTematica']].count())\n",
    "comentariosMulheres = int(comunidadesAbertas[comunidadesAbertas['Genero'] == 'female'][['RelevanciaTematica']].count())\n",
    "comentariosNone = int(comunidadesAbertas[comunidadesAbertas['Genero'] == 'None'][['RelevanciaTematica']].count())\n",
    "comentariosBot = int(comunidadesAbertas[comunidadesAbertas['Genero'] == 'bot'][['RelevanciaTematica']].count())\n",
    "\n",
    "print('Número de Comentários Feitos por Homens: '+str(comentariosHomens))\n",
    "print('Número de Comentários Feitos por Mulheres: '+str(comentariosMulheres))\n",
    "print('Número de Comentários Feitos sem Identificação: '+str(comentariosNone))\n",
    "print('Número de Comentários Feitos por Bots: '+str(comentariosBot))"
   ]
  },
  {
   "cell_type": "code",
   "execution_count": 29,
   "id": "c84f4c4f",
   "metadata": {},
   "outputs": [
    {
     "name": "stdout",
     "output_type": "stream",
     "text": [
      "Número de Comentários Feitos por Homens: 0\n",
      "Número de Comentários Feitos por Mulheres: 0\n",
      "Número de Comentários Feitos sem Identificação: 0\n",
      "Número de Comentários Feitos por Bots: 0\n"
     ]
    }
   ],
   "source": [
    "comentariosHomens = int(comunidadesExclusivas[comunidadesExclusivas['Genero'] == 'male'][['RelevanciaTematica']].count())\n",
    "comentariosMulheres = int(comunidadesExclusivas[comunidadesExclusivas['Genero'] == 'female'][['RelevanciaTematica']].count())\n",
    "comentariosNone = int(comunidadesExclusivas[comunidadesExclusivas['Genero'] == 'None'][['RelevanciaTematica']].count())\n",
    "comentariosBot = int(comunidadesExclusivas[comunidadesExclusivas['Genero'] == 'bot'][['RelevanciaTematica']].count())\n",
    "\n",
    "print('Número de Comentários Feitos por Homens: '+str(comentariosHomens))\n",
    "print('Número de Comentários Feitos por Mulheres: '+str(comentariosMulheres))\n",
    "print('Número de Comentários Feitos sem Identificação: '+str(comentariosNone))\n",
    "print('Número de Comentários Feitos por Bots: '+str(comentariosBot))"
   ]
  }
 ],
 "metadata": {
  "kernelspec": {
   "display_name": "Python 3 (ipykernel)",
   "language": "python",
   "name": "python3"
  },
  "language_info": {
   "codemirror_mode": {
    "name": "ipython",
    "version": 3
   },
   "file_extension": ".py",
   "mimetype": "text/x-python",
   "name": "python",
   "nbconvert_exporter": "python",
   "pygments_lexer": "ipython3",
   "version": "3.8.10"
  }
 },
 "nbformat": 4,
 "nbformat_minor": 5
}
