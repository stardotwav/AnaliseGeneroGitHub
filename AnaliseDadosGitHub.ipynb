{
 "cells": [
  {
   "cell_type": "markdown",
   "id": "77a5091f",
   "metadata": {},
   "source": [
    "# ❀ Trabalho de Conclusão de Curso ❀\n",
    "\n",
    "**Tema:** Relevância Temática dos Comentários e Diversidade de Gênero em Projetos OSS\n",
    "\n",
    "**Autora:** Estela Miranda Batista\n",
    "\n",
    "**Orientadora:** Gláucia Braga\n",
    "\n",
    "**Descrição:** Considerando a natureza colaborativa do desenvolvimento de software, as equipes podem ser formadas por pessoas de diversas culturas, idades, nacionalidades e gêneros, de forma que as equipes que possuem maior diversidade social podem aproveitar de informações mais amplas, experiências e ideias mais variadas e habilidades aprimoradas de resolução de problemas, tornando-se, portanto, mais eficazes. Porém, apesar de sabermos que a diversidade é benefíco durante o desenvolvimento de software, temos que a presença feminina é baixa, tanto em contribuições, quanto em número de membros. Visto isso, o trabalho aqui busca realizar um estudo que aponte questões sobre a participação feminina em tópicos de discussão, como as issues do GitHub e o fóruns de discussão do StackOverflow.\n",
    "\n",
    "Para realizar tal estudo será utilizado da métrica de similaridade de cossenos, onde é atribuida uma nota de 0 a 4 para os comentários postados nos tópicos de discussão, e também o tempo em que aquele determinado comentário levou para ser respondido. Além disso, iremos verificar o índice de diversidade de cada projeto analisado, e a reputação dos usuários envolvidos. Com essas métricas será possível responder as perguntas de pesquisa definidas, sendo elas:\n",
    "\n",
    "**1.** Existe diferença entre a relevância dos comentários postados por homens e mulheres?\n",
    "\n",
    "**2.** Existe relação entre a relevância dos comentários e a reputação do autor?\n",
    "\n",
    "**3.** Existe relação entre a relevância dos comentários e o tempo de participação na plataforma?\n",
    "\n",
    "**4.** Existe diferença do tempo de resposta ao comentário mais relevante em uma issue segundo o gênero do autor?\n",
    "\n",
    "**5**. Qual a diferença entre número de comentários postados por homens e mulheres?\n",
    "\n",
    "<br>\n",
    "\n",
    "### ❀ Desenvolvimento\n",
    "Iremos então agora ver os passos que foram utilizados para poder obter as respostas para uma dessas perguntas. É importante citar que os passos aqui descritos se referem a cada um dos tópicos extraídos, e aqui se encontram os resultados gerados a partir disso.\n",
    "\n",
    "🟣 **1.** Primeiro é realizada a extração dos dados da plataforma escolhida, nesse caso, as issues do GitHub, em que geramos um dataframe com o número do comentário, o usuário que fez o comentário, o comentário em si, o nome, e sobrenome do usuário. Sabendo que quando os dados são extraídos eles passam pelo cálculo de relevância temática da biblioteca do ColMiner é gerado um .csv com essas informações, que após isso são analisados em um jupyter notebook.\n",
    "\n",
    "🔵 **2.** Após feita a extração dessas informações, a partir do nome e do sobrenome do usuário é realizada a geração do gênero do usuário, visto que ele não é identificado pela plataforma. Para realizar tal métrica foi utilizado da API do [Genderize](https://genderize.io/), em que através de uma requisição simples enviamos o nome e temos o retorno do gênero do usuário. É importante citar que aqueles usuários em que a API não identifica o sexo a autora visita a plataforma do GitHub e verifica se é possível identificar o sexo do mesmo, através de fotos de perfil, e outras questões, se sim, o mesmo é inserido manualmente.\n",
    "\n",
    "⚪️ **3.** Depois de encontrado o gênero de cada um dos usuários devemos saber sua reputação, para assim podermos comparar a mesma com a similaridade de seus comentários, como visto na questão 2 da pesquisa. Para calcular essa reputação foi utilizado do [Gitscore](http://www.gitscore.com/), que de forma similar ao Genderize basta fazer requisições à API.\n",
    "\n",
    "<br>\n",
    "\n",
    "Com todas as informações geradas então, é gerado o dataframe com as informações de cada tópico, onde cada atributo aqui citado se torna uma coluna do mesmo, e a partir disso podemos extrair informações para responder as questões de pesquisa.\n",
    "\n",
    "Antes de mesmo de desenvolvermos, os tópicos selecionados passaram por uma filtragem, em que os mesmos podem entrar duas categorias, tópicos diversos e não diversos, sendo isso indicado pelo seu índice de diversidade, o índice Blau, que se encontra juntamente com o dataframe gerado por cada tópico."
   ]
  },
  {
   "cell_type": "code",
   "execution_count": 1,
   "id": "b4caaee6",
   "metadata": {},
   "outputs": [],
   "source": [
    "# Importando as Bibliotecas Necessárias\n",
    "import pandas as pd\n",
    "import seaborn as sns\n",
    "import matplotlib.pyplot as plt\n",
    "\n",
    "# Importando o Arquivo Usado\n",
    "dados = pd.read_csv('dadosGitHubComentarios.csv', index_col=None, header=0)\n",
    "dadosIssues = pd.read_csv('dadosGitHubIssues.csv', index_col=None, header=0)"
   ]
  },
  {
   "cell_type": "code",
   "execution_count": 2,
   "id": "ea731e8d",
   "metadata": {},
   "outputs": [],
   "source": [
    "# Após Analisado os Usuários que foram Classificados como None, Iremos Deixar o Gênero de cada Usuário que foi \n",
    "# possui identificar manualmente\n",
    "dados.loc[dados['AutorComentario'] == \"sfshaza2\", 'Genero'] = 'female'\n",
    "dados.loc[dados['AutorComentario'] == \"darshankawar\", 'Genero'] = 'male'\n",
    "dados.loc[dados['AutorComentario'] == \"kevmoo\", 'Genero'] = 'male'\n",
    "dados.loc[dados['AutorComentario'] == \"danagbemava-nc\", 'Genero'] = 'male'\n",
    "dados.loc[dados['AutorComentario'] == \"tachyons\", 'Genero'] = 'male'\n",
    "dados.loc[dados['AutorComentario'] == \"georgepalmer\", 'Genero'] = 'male'\n",
    "dados.loc[dados['AutorComentario'] == \"alexdunae\", 'Genero'] = 'male'\n",
    "dados.loc[dados['AutorComentario'] == \"niborg\", 'Genero'] = 'male'\n",
    "dados.loc[dados['AutorComentario'] == \"justin808\", 'Genero'] = 'male'\n",
    "dados.loc[dados['AutorComentario'] == \"victorlcampos\", 'Genero'] = 'male'\n",
    "dados.loc[dados['AutorComentario'] == \"kramerdog\", 'Genero'] = 'male'\n",
    "dados.loc[dados['AutorComentario'] == \"felixbuenemann\", 'Genero'] = 'male'\n",
    "dados.loc[dados['AutorComentario'] == \"grosser\", 'Genero'] = 'male'\n",
    "dados.loc[dados['AutorComentario'] == \"rafaelfranca\", 'Genero'] = 'male'\n",
    "dados.loc[dados['AutorComentario'] == \"marcandre\", 'Genero'] = 'male'\n",
    "dados.loc[dados['AutorComentario'] == \"LeeRenJie\", 'Genero'] = 'male'\n",
    "dados.loc[dados['AutorComentario'] == \"mcmire\", 'Genero'] = 'male'\n",
    "dados.loc[dados['AutorComentario'] == \"cguess\", 'Genero'] = 'male'\n",
    "dados.loc[dados['AutorComentario'] == \"anark\", 'Genero'] = 'male'\n",
    "dados.loc[dados['AutorComentario'] == \"vinceve\", 'Genero'] = 'male'\n",
    "dados.loc[dados['AutorComentario'] == \"oggy\", 'Genero'] = 'male'\n",
    "dados.loc[dados['AutorComentario'] == \"brenogazzola\", 'Genero'] = 'male'\n",
    "dados.loc[dados['AutorComentario'] == \"vladimirtemnikov\", 'Genero'] = 'male'\n",
    "dados.loc[dados['AutorComentario'] == \"deivid-rodriguez\", 'Genero'] = 'male'\n",
    "\n",
    "# Durante a Verificação Manual dos Usuários se pode notar que existiam alguns\n",
    "# Bots, dessa forma, foi criada em Gênero que identifica esse caso\n",
    "dados.loc[dados['AutorComentario'].str.contains('bot'), 'Genero'] = 'bot'"
   ]
  },
  {
   "cell_type": "code",
   "execution_count": 3,
   "id": "7d00b364",
   "metadata": {},
   "outputs": [],
   "source": [
    "dados.loc[dados['Genero'] == \"female\", 'Genero'] = 'Feminino'\n",
    "dados.loc[dados['Genero'] == \"male\", 'Genero'] = 'Masculino'\n",
    "dados.loc[dados['Genero'] == \"None\", 'Genero'] = 'Não Identificado'\n",
    "dados.loc[dados['Genero'] == \"bot\", 'Genero'] = 'Bots'\n",
    "\n",
    "dadosIssues.loc[dadosIssues['Genero'] == \"female\", 'Genero'] = 'Feminino'\n",
    "dadosIssues.loc[dadosIssues['Genero'] == \"male\", 'Genero'] = 'Masculino'\n",
    "dadosIssues.loc[dadosIssues['Genero'] == \"None\", 'Genero'] = 'Não Identificado'\n",
    "dadosIssues.loc[dadosIssues['Genero'] == \"bot\", 'Genero'] = 'Bots'"
   ]
  },
  {
   "cell_type": "code",
   "execution_count": 4,
   "id": "0b838802",
   "metadata": {},
   "outputs": [
    {
     "data": {
      "text/html": [
       "<div>\n",
       "<style scoped>\n",
       "    .dataframe tbody tr th:only-of-type {\n",
       "        vertical-align: middle;\n",
       "    }\n",
       "\n",
       "    .dataframe tbody tr th {\n",
       "        vertical-align: top;\n",
       "    }\n",
       "\n",
       "    .dataframe thead th {\n",
       "        text-align: right;\n",
       "    }\n",
       "</style>\n",
       "<table border=\"1\" class=\"dataframe\">\n",
       "  <thead>\n",
       "    <tr style=\"text-align: right;\">\n",
       "      <th></th>\n",
       "      <th>NumeroIssue</th>\n",
       "      <th>TituloIssue</th>\n",
       "      <th>DescricaoIssue</th>\n",
       "      <th>CriacaoIssue</th>\n",
       "      <th>NumeroComentario</th>\n",
       "      <th>Comentario</th>\n",
       "      <th>DataComentario</th>\n",
       "      <th>RelevanciaTematica</th>\n",
       "      <th>AutorComentario</th>\n",
       "      <th>Nome</th>\n",
       "      <th>Sobrenome</th>\n",
       "      <th>Reputacao</th>\n",
       "      <th>AnosPlataforma</th>\n",
       "      <th>Genero</th>\n",
       "    </tr>\n",
       "  </thead>\n",
       "  <tbody>\n",
       "    <tr>\n",
       "      <th>0</th>\n",
       "      <td>2126</td>\n",
       "      <td>Update dependency @types/node to v16</td>\n",
       "      <td>[![WhiteSource Renovate](https://app.renovateb...</td>\n",
       "      <td>2021-10-26T13:26:17Z</td>\n",
       "      <td>951954780</td>\n",
       "      <td># [Codecov](https://codecov.io/gh/mozilla/addo...</td>\n",
       "      <td>2021-10-26T13:43:54Z</td>\n",
       "      <td>0.088300</td>\n",
       "      <td>codecov[bot]</td>\n",
       "      <td>codecov[bot]</td>\n",
       "      <td></td>\n",
       "      <td>0</td>\n",
       "      <td>6</td>\n",
       "      <td>Bots</td>\n",
       "    </tr>\n",
       "    <tr>\n",
       "      <th>1</th>\n",
       "      <td>2126</td>\n",
       "      <td>Update dependency @types/node to v16</td>\n",
       "      <td>[![WhiteSource Renovate](https://app.renovateb...</td>\n",
       "      <td>2021-10-26T13:26:17Z</td>\n",
       "      <td>951965911</td>\n",
       "      <td>@willdurand I believe we are on node v14, so s...</td>\n",
       "      <td>2021-10-26T13:55:51Z</td>\n",
       "      <td>0.014058</td>\n",
       "      <td>bobsilverberg</td>\n",
       "      <td>Bob</td>\n",
       "      <td>Silverberg</td>\n",
       "      <td>75</td>\n",
       "      <td>13</td>\n",
       "      <td>Masculino</td>\n",
       "    </tr>\n",
       "    <tr>\n",
       "      <th>2</th>\n",
       "      <td>2126</td>\n",
       "      <td>Update dependency @types/node to v16</td>\n",
       "      <td>[![WhiteSource Renovate](https://app.renovateb...</td>\n",
       "      <td>2021-10-26T13:26:17Z</td>\n",
       "      <td>984926548</td>\n",
       "      <td>&gt; @willdurand I believe we are on node v14, so...</td>\n",
       "      <td>2021-12-02T19:16:52Z</td>\n",
       "      <td>0.029444</td>\n",
       "      <td>willdurand</td>\n",
       "      <td>William</td>\n",
       "      <td>Durand</td>\n",
       "      <td>1676</td>\n",
       "      <td>12</td>\n",
       "      <td>Masculino</td>\n",
       "    </tr>\n",
       "    <tr>\n",
       "      <th>3</th>\n",
       "      <td>2126</td>\n",
       "      <td>Update dependency @types/node to v16</td>\n",
       "      <td>[![WhiteSource Renovate](https://app.renovateb...</td>\n",
       "      <td>2021-10-26T13:26:17Z</td>\n",
       "      <td>984944808</td>\n",
       "      <td>&gt;&gt; @willdurand I believe we are on node v14, s...</td>\n",
       "      <td>2021-12-02T19:42:19Z</td>\n",
       "      <td>0.061814</td>\n",
       "      <td>bobsilverberg</td>\n",
       "      <td>Bob</td>\n",
       "      <td>Silverberg</td>\n",
       "      <td>75</td>\n",
       "      <td>13</td>\n",
       "      <td>Masculino</td>\n",
       "    </tr>\n",
       "    <tr>\n",
       "      <th>4</th>\n",
       "      <td>1897</td>\n",
       "      <td>[Review Tools] No Need to Process \"Known JS li...</td>\n",
       "      <td>Currently, the review tools processes and synt...</td>\n",
       "      <td>2021-03-19T12:06:10Z</td>\n",
       "      <td>802829620</td>\n",
       "      <td>Should this be an addons-code-manager issue, o...</td>\n",
       "      <td>2021-03-19T13:23:39Z</td>\n",
       "      <td>0.038175</td>\n",
       "      <td>bobsilverberg</td>\n",
       "      <td>Bob</td>\n",
       "      <td>Silverberg</td>\n",
       "      <td>75</td>\n",
       "      <td>13</td>\n",
       "      <td>Masculino</td>\n",
       "    </tr>\n",
       "    <tr>\n",
       "      <th>...</th>\n",
       "      <td>...</td>\n",
       "      <td>...</td>\n",
       "      <td>...</td>\n",
       "      <td>...</td>\n",
       "      <td>...</td>\n",
       "      <td>...</td>\n",
       "      <td>...</td>\n",
       "      <td>...</td>\n",
       "      <td>...</td>\n",
       "      <td>...</td>\n",
       "      <td>...</td>\n",
       "      <td>...</td>\n",
       "      <td>...</td>\n",
       "      <td>...</td>\n",
       "    </tr>\n",
       "    <tr>\n",
       "      <th>9146</th>\n",
       "      <td>330</td>\n",
       "      <td>Remove chat fragments and pagerview from Event...</td>\n",
       "      <td>EventChatFragment\\nTopicChatFragment\\n</td>\n",
       "      <td>2015-12-30T02:45:10Z</td>\n",
       "      <td>172167498</td>\n",
       "      <td>@shehbashahab lightning fast :zap: :facepunch: \\n</td>\n",
       "      <td>2016-01-16T07:04:16Z</td>\n",
       "      <td>0.000185</td>\n",
       "      <td>zassmin</td>\n",
       "      <td>zassmin</td>\n",
       "      <td></td>\n",
       "      <td>136</td>\n",
       "      <td>10</td>\n",
       "      <td>Masculino</td>\n",
       "    </tr>\n",
       "    <tr>\n",
       "      <th>9147</th>\n",
       "      <td>279</td>\n",
       "      <td>posts: when a user adds a new post, scroll to ...</td>\n",
       "      <td>- this requires passing the post back to the p...</td>\n",
       "      <td>2015-11-13T22:50:19Z</td>\n",
       "      <td>169553103</td>\n",
       "      <td>@RoyPuja noticing you are assigned. Are you ac...</td>\n",
       "      <td>2016-01-07T05:12:20Z</td>\n",
       "      <td>0.016483</td>\n",
       "      <td>zassmin</td>\n",
       "      <td>zassmin</td>\n",
       "      <td></td>\n",
       "      <td>136</td>\n",
       "      <td>10</td>\n",
       "      <td>Masculino</td>\n",
       "    </tr>\n",
       "    <tr>\n",
       "      <th>9148</th>\n",
       "      <td>279</td>\n",
       "      <td>posts: when a user adds a new post, scroll to ...</td>\n",
       "      <td>- this requires passing the post back to the p...</td>\n",
       "      <td>2015-11-13T22:50:19Z</td>\n",
       "      <td>169566773</td>\n",
       "      <td>Yes,I am.\\n</td>\n",
       "      <td>2016-01-07T06:27:17Z</td>\n",
       "      <td>0.000182</td>\n",
       "      <td>RoyPuja</td>\n",
       "      <td>Puja</td>\n",
       "      <td>Roy</td>\n",
       "      <td>4</td>\n",
       "      <td>7</td>\n",
       "      <td>Masculino</td>\n",
       "    </tr>\n",
       "    <tr>\n",
       "      <th>9149</th>\n",
       "      <td>279</td>\n",
       "      <td>posts: when a user adds a new post, scroll to ...</td>\n",
       "      <td>- this requires passing the post back to the p...</td>\n",
       "      <td>2015-11-13T22:50:19Z</td>\n",
       "      <td>170394129</td>\n",
       "      <td>This works for text posts.@zassmin,@shehbashah...</td>\n",
       "      <td>2016-01-10T21:09:59Z</td>\n",
       "      <td>0.024899</td>\n",
       "      <td>RoyPuja</td>\n",
       "      <td>Puja</td>\n",
       "      <td>Roy</td>\n",
       "      <td>4</td>\n",
       "      <td>7</td>\n",
       "      <td>Masculino</td>\n",
       "    </tr>\n",
       "    <tr>\n",
       "      <th>9150</th>\n",
       "      <td>279</td>\n",
       "      <td>posts: when a user adds a new post, scroll to ...</td>\n",
       "      <td>- this requires passing the post back to the p...</td>\n",
       "      <td>2015-11-13T22:50:19Z</td>\n",
       "      <td>170696071</td>\n",
       "      <td>Checked for the post with picture.\\n</td>\n",
       "      <td>2016-01-11T21:30:26Z</td>\n",
       "      <td>0.023619</td>\n",
       "      <td>RoyPuja</td>\n",
       "      <td>Puja</td>\n",
       "      <td>Roy</td>\n",
       "      <td>4</td>\n",
       "      <td>7</td>\n",
       "      <td>Masculino</td>\n",
       "    </tr>\n",
       "  </tbody>\n",
       "</table>\n",
       "<p>9151 rows × 14 columns</p>\n",
       "</div>"
      ],
      "text/plain": [
       "      NumeroIssue                                        TituloIssue  \\\n",
       "0            2126               Update dependency @types/node to v16   \n",
       "1            2126               Update dependency @types/node to v16   \n",
       "2            2126               Update dependency @types/node to v16   \n",
       "3            2126               Update dependency @types/node to v16   \n",
       "4            1897  [Review Tools] No Need to Process \"Known JS li...   \n",
       "...           ...                                                ...   \n",
       "9146          330  Remove chat fragments and pagerview from Event...   \n",
       "9147          279  posts: when a user adds a new post, scroll to ...   \n",
       "9148          279  posts: when a user adds a new post, scroll to ...   \n",
       "9149          279  posts: when a user adds a new post, scroll to ...   \n",
       "9150          279  posts: when a user adds a new post, scroll to ...   \n",
       "\n",
       "                                         DescricaoIssue          CriacaoIssue  \\\n",
       "0     [![WhiteSource Renovate](https://app.renovateb...  2021-10-26T13:26:17Z   \n",
       "1     [![WhiteSource Renovate](https://app.renovateb...  2021-10-26T13:26:17Z   \n",
       "2     [![WhiteSource Renovate](https://app.renovateb...  2021-10-26T13:26:17Z   \n",
       "3     [![WhiteSource Renovate](https://app.renovateb...  2021-10-26T13:26:17Z   \n",
       "4     Currently, the review tools processes and synt...  2021-03-19T12:06:10Z   \n",
       "...                                                 ...                   ...   \n",
       "9146             EventChatFragment\\nTopicChatFragment\\n  2015-12-30T02:45:10Z   \n",
       "9147  - this requires passing the post back to the p...  2015-11-13T22:50:19Z   \n",
       "9148  - this requires passing the post back to the p...  2015-11-13T22:50:19Z   \n",
       "9149  - this requires passing the post back to the p...  2015-11-13T22:50:19Z   \n",
       "9150  - this requires passing the post back to the p...  2015-11-13T22:50:19Z   \n",
       "\n",
       "      NumeroComentario                                         Comentario  \\\n",
       "0            951954780  # [Codecov](https://codecov.io/gh/mozilla/addo...   \n",
       "1            951965911  @willdurand I believe we are on node v14, so s...   \n",
       "2            984926548  > @willdurand I believe we are on node v14, so...   \n",
       "3            984944808  >> @willdurand I believe we are on node v14, s...   \n",
       "4            802829620  Should this be an addons-code-manager issue, o...   \n",
       "...                ...                                                ...   \n",
       "9146         172167498  @shehbashahab lightning fast :zap: :facepunch: \\n   \n",
       "9147         169553103  @RoyPuja noticing you are assigned. Are you ac...   \n",
       "9148         169566773                                        Yes,I am.\\n   \n",
       "9149         170394129  This works for text posts.@zassmin,@shehbashah...   \n",
       "9150         170696071               Checked for the post with picture.\\n   \n",
       "\n",
       "            DataComentario  RelevanciaTematica AutorComentario          Nome  \\\n",
       "0     2021-10-26T13:43:54Z            0.088300    codecov[bot]  codecov[bot]   \n",
       "1     2021-10-26T13:55:51Z            0.014058   bobsilverberg           Bob   \n",
       "2     2021-12-02T19:16:52Z            0.029444      willdurand       William   \n",
       "3     2021-12-02T19:42:19Z            0.061814   bobsilverberg           Bob   \n",
       "4     2021-03-19T13:23:39Z            0.038175   bobsilverberg           Bob   \n",
       "...                    ...                 ...             ...           ...   \n",
       "9146  2016-01-16T07:04:16Z            0.000185         zassmin       zassmin   \n",
       "9147  2016-01-07T05:12:20Z            0.016483         zassmin       zassmin   \n",
       "9148  2016-01-07T06:27:17Z            0.000182         RoyPuja          Puja   \n",
       "9149  2016-01-10T21:09:59Z            0.024899         RoyPuja          Puja   \n",
       "9150  2016-01-11T21:30:26Z            0.023619         RoyPuja          Puja   \n",
       "\n",
       "       Sobrenome  Reputacao  AnosPlataforma     Genero  \n",
       "0                         0               6       Bots  \n",
       "1     Silverberg         75              13  Masculino  \n",
       "2         Durand       1676              12  Masculino  \n",
       "3     Silverberg         75              13  Masculino  \n",
       "4     Silverberg         75              13  Masculino  \n",
       "...          ...        ...             ...        ...  \n",
       "9146                    136              10  Masculino  \n",
       "9147                    136              10  Masculino  \n",
       "9148         Roy          4               7  Masculino  \n",
       "9149         Roy          4               7  Masculino  \n",
       "9150         Roy          4               7  Masculino  \n",
       "\n",
       "[9151 rows x 14 columns]"
      ]
     },
     "execution_count": 4,
     "metadata": {},
     "output_type": "execute_result"
    }
   ],
   "source": [
    "dados"
   ]
  },
  {
   "cell_type": "markdown",
   "id": "03faa2be",
   "metadata": {},
   "source": [
    "Com os Dados então inseridos, contando com todos os campos necessários para as análises, temos que iremos gerar gráficos, tabelas, entre outros para verificar as respostas para as perguntas apresentadas acima.\n",
    "\n",
    "#### 🟣 **1.** Existe diferença entre a relevância dos comentários postados por homens e mulheres?\n",
    "\n",
    "Para poder verificar a diferença entre a relevância dos comentários postados por homens e mulheres, basta fazer uma média aritmética com a filtragem dos mesmos. Neste caso, temos então as médias:\n",
    "\n",
    "**Homens:** 0.04\n",
    "\n",
    "**Mulheres:** 0.03\n",
    "\n",
    "Além disso, foi feito um gráfico, para verificar esse intervalo, e se eles continham muitos outlier. E nesse caso, foi possível notar que os homens continham mais outlier que as mulheres, possuindo como nota máxima na escala de 0 a 1 a nota 0.7, enquanto as mulheres tem como nota máxima cerca de 0.5. Considerando que a escala tem um intervalo relativamente pequeno é possível notar que temos uma diferença consideravél entre a relevância de comentários postados por homens e mulheres."
   ]
  },
  {
   "cell_type": "code",
   "execution_count": 5,
   "id": "56c3e126",
   "metadata": {},
   "outputs": [
    {
     "name": "stdout",
     "output_type": "stream",
     "text": [
      "Homens:  nan\n",
      "Mulheres:  nan\n"
     ]
    }
   ],
   "source": [
    "mediaHomens = float(dados[dados['Genero'] == 'male'][['RelevanciaTematica']].mean())\n",
    "mediaMulheres = float(dados[dados['Genero'] == 'female'][['RelevanciaTematica']].mean())\n",
    "\n",
    "print('Homens: {0: .5f}'.format(mediaHomens))\n",
    "print('Mulheres: {0: .5f}'.format(mediaMulheres))"
   ]
  },
  {
   "cell_type": "code",
   "execution_count": 6,
   "id": "405b4cad",
   "metadata": {},
   "outputs": [
    {
     "data": {
      "text/plain": [
       "[Text(0.5, 0, 'Gênero'), Text(0, 0.5, 'Relevância Temática')]"
      ]
     },
     "execution_count": 6,
     "metadata": {},
     "output_type": "execute_result"
    },
    {
     "data": {
      "image/png": "[encoded data removed]",
      "text/plain": [
       "<Figure size 432x288 with 1 Axes>"
      ]
     },
     "metadata": {
      "needs_background": "light"
     },
     "output_type": "display_data"
    }
   ],
   "source": [
    "sns.boxplot(data=dados, x='Genero', y='RelevanciaTematica', palette=\"PuRd\").set(xlabel='Gênero', ylabel='Relevância Temática')"
   ]
  },
  {
   "cell_type": "code",
   "execution_count": 7,
   "id": "da23448c",
   "metadata": {},
   "outputs": [],
   "source": [
    "li = [dados[:216], dados[216:462], dados[462:667], dados[667:1034], dados[1034:1804], dados[1885:2088], dados[2113:2282], \n",
    "      dados[2539:2892], dados[2892:2932], dados[3171:3395], dados[3620:3707], dados[3707:4092], dados[4110:4620], \n",
    "     dados[4620:4975], dados[4975:5188], dados[5943:7715], dados[7715:9047]]\n",
    "comunidadesAbertas = pd.concat(li, axis=0, ignore_index=True)\n",
    "li = [dados[1804:1885], dados[2088:2113], dados[2113:2539], dados[2932:3060], dados[3060:3091], dados[3091:3141], dados[3091:3171],\n",
    "     dados[3395:3517], dados[3517:3620], dados[4092:4110], dados[5188:5943], dados[9047::]]                                       \n",
    "comunidadesExclusivas = pd.concat(li, axis=0, ignore_index=True)"
   ]
  },
  {
   "cell_type": "code",
   "execution_count": 8,
   "id": "d821d7f8",
   "metadata": {},
   "outputs": [
    {
     "data": {
      "text/plain": [
       "[Text(0.5, 0, 'Gênero'), Text(0, 0.5, 'Relevância Temática')]"
      ]
     },
     "execution_count": 8,
     "metadata": {},
     "output_type": "execute_result"
    },
    {
     "data": {
      "image/png": "[encoded data removed]",
      "text/plain": [
       "<Figure size 432x288 with 1 Axes>"
      ]
     },
     "metadata": {
      "needs_background": "light"
     },
     "output_type": "display_data"
    }
   ],
   "source": [
    "comunidadesAbertas.loc[comunidadesAbertas['Genero'] == \"female\", 'Genero'] = 'Feminino'\n",
    "comunidadesAbertas.loc[comunidadesAbertas['Genero'] == \"male\", 'Genero'] = 'Masculino'\n",
    "comunidadesAbertas.loc[comunidadesAbertas['Genero'] == \"None\", 'Genero'] = 'Não Identificado'\n",
    "comunidadesAbertas.loc[comunidadesAbertas['Genero'] == \"bot\", 'Genero'] = 'Bots'\n",
    "sns.set_palette(['lightcoral', 'cornflowerblue', 'mediumvioletred','c'])\n",
    "sns.color_palette(\"rocket\")\n",
    "sns.boxplot(data=comunidadesAbertas, x='Genero', y='RelevanciaTematica').set(xlabel='Gênero', ylabel='Relevância Temática')"
   ]
  },
  {
   "cell_type": "code",
   "execution_count": 9,
   "id": "52efc68f",
   "metadata": {},
   "outputs": [
    {
     "data": {
      "text/plain": [
       "[Text(0.5, 0, 'Gênero'), Text(0, 0.5, 'Relevância Temática')]"
      ]
     },
     "execution_count": 9,
     "metadata": {},
     "output_type": "execute_result"
    },
    {
     "data": {
      "image/png": "[encoded data removed]",
      "text/plain": [
       "<Figure size 432x288 with 1 Axes>"
      ]
     },
     "metadata": {
      "needs_background": "light"
     },
     "output_type": "display_data"
    }
   ],
   "source": [
    "comunidadesExclusivas.loc[comunidadesExclusivas['Genero'] == \"female\", 'Genero'] = 'Feminino'\n",
    "comunidadesExclusivas.loc[comunidadesExclusivas['Genero'] == \"male\", 'Genero'] = 'Masculino'\n",
    "comunidadesExclusivas.loc[comunidadesExclusivas['Genero'] == \"None\", 'Genero'] = 'Não Identificado'\n",
    "comunidadesExclusivas.loc[comunidadesExclusivas['Genero'] == \"bot\", 'Genero'] = 'Bots'\n",
    "sns.set_palette(['mediumvioletred', 'lightcoral', 'cornflowerblue'])\n",
    "sns.boxplot(data=comunidadesExclusivas, x='Genero', y='RelevanciaTematica').set(xlabel='Gênero', ylabel='Relevância Temática')"
   ]
  },
  {
   "cell_type": "markdown",
   "id": "0903b472",
   "metadata": {},
   "source": [
    "#### 🔵 **2.** Existe relação entre a relevância dos comentários e a reputação do autor?"
   ]
  },
  {
   "cell_type": "code",
   "execution_count": 10,
   "id": "04a65bbd",
   "metadata": {},
   "outputs": [],
   "source": [
    "dados = dados.round({\"RelevanciaTematica\":1})\n",
    "dadosPlot = dados[dados.Genero != 'Não Identificado']\n",
    "dadosPlot = dadosPlot[dadosPlot.Genero != 'Bots']"
   ]
  },
  {
   "cell_type": "code",
   "execution_count": 11,
   "id": "99235809",
   "metadata": {},
   "outputs": [
    {
     "data": {
      "text/plain": [
       "[Text(0.5, 0, 'Relevância Temática'), Text(0, 0.5, 'Reputação'), None]"
      ]
     },
     "execution_count": 11,
     "metadata": {},
     "output_type": "execute_result"
    },
    {
     "data": {
      "image/png": "[encoded data removed]",
      "text/plain": [
       "<Figure size 432x288 with 1 Axes>"
      ]
     },
     "metadata": {
      "needs_background": "light"
     },
     "output_type": "display_data"
    }
   ],
   "source": [
    "sns.barplot(x='RelevanciaTematica', y='Reputacao', palette=\"rocket\", alpha=0.7, data=dadosPlot, hue='Genero').set(xlabel='Relevância Temática', ylabel='Reputação', yscale='log')"
   ]
  },
  {
   "cell_type": "code",
   "execution_count": 12,
   "id": "9c178784",
   "metadata": {},
   "outputs": [],
   "source": [
    "comunidadesAbertas = comunidadesAbertas.round({\"RelevanciaTematica\":1})\n",
    "comunidadesExclusivas = comunidadesExclusivas[comunidadesExclusivas.Genero != 'Bots']\n",
    "comunidadesExclusivas = comunidadesExclusivas.round({\"RelevanciaTematica\":1})"
   ]
  },
  {
   "cell_type": "code",
   "execution_count": 13,
   "id": "8153b121",
   "metadata": {},
   "outputs": [
    {
     "data": {
      "text/plain": [
       "[Text(0.5, 0, 'Relevância Temática'), Text(0, 0.5, 'Reputação'), None]"
      ]
     },
     "execution_count": 13,
     "metadata": {},
     "output_type": "execute_result"
    },
    {
     "data": {
      "image/png": "[encoded data removed]",
      "text/plain": [
       "<Figure size 432x288 with 1 Axes>"
      ]
     },
     "metadata": {
      "needs_background": "light"
     },
     "output_type": "display_data"
    }
   ],
   "source": [
    "sns.barplot(x='RelevanciaTematica', y='Reputacao', palette=\"rocket\", alpha=0.7, data=comunidadesAbertas, hue='Genero').set(xlabel='Relevância Temática', ylabel='Reputação', yscale='log')"
   ]
  },
  {
   "cell_type": "code",
   "execution_count": 14,
   "id": "c72c567b",
   "metadata": {},
   "outputs": [
    {
     "data": {
      "text/plain": [
       "[Text(0.5, 0, 'Relevância Temática'), Text(0, 0.5, 'Reputação'), None]"
      ]
     },
     "execution_count": 14,
     "metadata": {},
     "output_type": "execute_result"
    },
    {
     "data": {
      "image/png": "[encoded data removed]",
      "text/plain": [
       "<Figure size 432x288 with 1 Axes>"
      ]
     },
     "metadata": {
      "needs_background": "light"
     },
     "output_type": "display_data"
    }
   ],
   "source": [
    "sns.barplot(x='RelevanciaTematica', y='Reputacao', palette=\"rocket\", alpha=0.7, data=comunidadesExclusivas, hue='Genero').set(xlabel='Relevância Temática', ylabel='Reputação', yscale='log')"
   ]
  },
  {
   "cell_type": "code",
   "execution_count": 15,
   "id": "f6e062e0",
   "metadata": {},
   "outputs": [
    {
     "data": {
      "text/html": [
       "<div>\n",
       "<style scoped>\n",
       "    .dataframe tbody tr th:only-of-type {\n",
       "        vertical-align: middle;\n",
       "    }\n",
       "\n",
       "    .dataframe tbody tr th {\n",
       "        vertical-align: top;\n",
       "    }\n",
       "\n",
       "    .dataframe thead th {\n",
       "        text-align: right;\n",
       "    }\n",
       "</style>\n",
       "<table border=\"1\" class=\"dataframe\">\n",
       "  <thead>\n",
       "    <tr style=\"text-align: right;\">\n",
       "      <th></th>\n",
       "      <th>Reputacao</th>\n",
       "      <th>RelevanciaTematica</th>\n",
       "    </tr>\n",
       "  </thead>\n",
       "  <tbody>\n",
       "    <tr>\n",
       "      <th>Reputacao</th>\n",
       "      <td>1.000000</td>\n",
       "      <td>-0.044377</td>\n",
       "    </tr>\n",
       "    <tr>\n",
       "      <th>RelevanciaTematica</th>\n",
       "      <td>-0.044377</td>\n",
       "      <td>1.000000</td>\n",
       "    </tr>\n",
       "  </tbody>\n",
       "</table>\n",
       "</div>"
      ],
      "text/plain": [
       "                    Reputacao  RelevanciaTematica\n",
       "Reputacao            1.000000           -0.044377\n",
       "RelevanciaTematica  -0.044377            1.000000"
      ]
     },
     "execution_count": 15,
     "metadata": {},
     "output_type": "execute_result"
    }
   ],
   "source": [
    "# Correlação entrr a Reputação e a Relevância Temática\n",
    "dados[['Reputacao', 'RelevanciaTematica']].corr()"
   ]
  },
  {
   "cell_type": "markdown",
   "id": "db7787f4",
   "metadata": {},
   "source": [
    "#### ⚪️ **3.** Existe relação entre a relevância dos comentários e o tempo de participação na plataforma?"
   ]
  },
  {
   "cell_type": "code",
   "execution_count": 16,
   "id": "d0ace360",
   "metadata": {},
   "outputs": [
    {
     "data": {
      "text/plain": [
       "[Text(0.5, 0, 'Relevância Temática'), Text(0, 0.5, 'Anos na Plataforma')]"
      ]
     },
     "execution_count": 16,
     "metadata": {},
     "output_type": "execute_result"
    },
    {
     "data": {
      "image/png": "[encoded data removed]",
      "text/plain": [
       "<Figure size 432x288 with 1 Axes>"
      ]
     },
     "metadata": {
      "needs_background": "light"
     },
     "output_type": "display_data"
    }
   ],
   "source": [
    "sns.barplot(x='RelevanciaTematica', y='AnosPlataforma', palette=\"rocket\", alpha=0.7, data=dadosPlot, hue='Genero').set(xlabel='Relevância Temática', ylabel='Anos na Plataforma')"
   ]
  },
  {
   "cell_type": "code",
   "execution_count": 17,
   "id": "9d9c85c3",
   "metadata": {},
   "outputs": [],
   "source": [
    "comunidadesAbertas = comunidadesAbertas.round({\"RelevanciaTematica\":1})\n",
    "comunidadesExclusivas = comunidadesExclusivas.round({\"RelevanciaTematica\":1})"
   ]
  },
  {
   "cell_type": "code",
   "execution_count": 18,
   "id": "1d5b44cc",
   "metadata": {},
   "outputs": [
    {
     "data": {
      "text/plain": [
       "[Text(0.5, 0, 'Relevância Temática'), Text(0, 0.5, 'Anos na Plataforma')]"
      ]
     },
     "execution_count": 18,
     "metadata": {},
     "output_type": "execute_result"
    },
    {
     "data": {
      "image/png": "[encoded data removed]",
      "text/plain": [
       "<Figure size 432x288 with 1 Axes>"
      ]
     },
     "metadata": {
      "needs_background": "light"
     },
     "output_type": "display_data"
    }
   ],
   "source": [
    "sns.barplot(x='RelevanciaTematica', y='AnosPlataforma', palette=\"rocket\", alpha=0.7, data=comunidadesAbertas, hue='Genero').set(xlabel='Relevância Temática', ylabel='Anos na Plataforma')"
   ]
  },
  {
   "cell_type": "code",
   "execution_count": 19,
   "id": "31a80a19",
   "metadata": {},
   "outputs": [
    {
     "data": {
      "text/plain": [
       "[Text(0.5, 0, 'Relevância Temática'), Text(0, 0.5, 'Anos na Plataforma')]"
      ]
     },
     "execution_count": 19,
     "metadata": {},
     "output_type": "execute_result"
    },
    {
     "data": {
      "image/png": "[encoded data removed]",
      "text/plain": [
       "<Figure size 432x288 with 1 Axes>"
      ]
     },
     "metadata": {
      "needs_background": "light"
     },
     "output_type": "display_data"
    }
   ],
   "source": [
    "sns.barplot(x='RelevanciaTematica', y='AnosPlataforma', palette=\"rocket\", alpha=0.7, data=comunidadesExclusivas, hue='Genero').set(xlabel='Relevância Temática', ylabel='Anos na Plataforma')"
   ]
  },
  {
   "cell_type": "code",
   "execution_count": 20,
   "id": "ca356d16",
   "metadata": {},
   "outputs": [
    {
     "data": {
      "text/html": [
       "<div>\n",
       "<style scoped>\n",
       "    .dataframe tbody tr th:only-of-type {\n",
       "        vertical-align: middle;\n",
       "    }\n",
       "\n",
       "    .dataframe tbody tr th {\n",
       "        vertical-align: top;\n",
       "    }\n",
       "\n",
       "    .dataframe thead th {\n",
       "        text-align: right;\n",
       "    }\n",
       "</style>\n",
       "<table border=\"1\" class=\"dataframe\">\n",
       "  <thead>\n",
       "    <tr style=\"text-align: right;\">\n",
       "      <th></th>\n",
       "      <th>AnosPlataforma</th>\n",
       "      <th>RelevanciaTematica</th>\n",
       "    </tr>\n",
       "  </thead>\n",
       "  <tbody>\n",
       "    <tr>\n",
       "      <th>AnosPlataforma</th>\n",
       "      <td>1.000000</td>\n",
       "      <td>-0.054152</td>\n",
       "    </tr>\n",
       "    <tr>\n",
       "      <th>RelevanciaTematica</th>\n",
       "      <td>-0.054152</td>\n",
       "      <td>1.000000</td>\n",
       "    </tr>\n",
       "  </tbody>\n",
       "</table>\n",
       "</div>"
      ],
      "text/plain": [
       "                    AnosPlataforma  RelevanciaTematica\n",
       "AnosPlataforma            1.000000           -0.054152\n",
       "RelevanciaTematica       -0.054152            1.000000"
      ]
     },
     "execution_count": 20,
     "metadata": {},
     "output_type": "execute_result"
    }
   ],
   "source": [
    "# Correlação entre os Anos de Participação e a Relevância Temática\n",
    "dados[['AnosPlataforma', 'RelevanciaTematica']].corr()"
   ]
  },
  {
   "cell_type": "markdown",
   "id": "e3461bbb",
   "metadata": {},
   "source": [
    "#### 🟡 **4.** Qual a diferença entre número de tópicos postados por homens e mulheres?"
   ]
  },
  {
   "cell_type": "code",
   "execution_count": 21,
   "id": "c690d65f",
   "metadata": {},
   "outputs": [
    {
     "name": "stdout",
     "output_type": "stream",
     "text": [
      "Número de Issues Feitas por Homens: 0\n",
      "Número de Issues Feitas por Mulheres: 0\n"
     ]
    }
   ],
   "source": [
    "issuesHomens = int(dadosIssues[dadosIssues['Genero'] == 'male'][['NumeroIssue']].count())\n",
    "issuesMulheres = int(dadosIssues[dadosIssues['Genero'] == 'female'][['NumeroIssue']].count())\n",
    "\n",
    "print('Número de Issues Feitas por Homens: '+str(issuesHomens))\n",
    "print('Número de Issues Feitas por Mulheres: '+str(issuesMulheres))"
   ]
  },
  {
   "cell_type": "code",
   "execution_count": 22,
   "id": "279553c9",
   "metadata": {},
   "outputs": [
    {
     "data": {
      "text/plain": [
       "[Text(0.5, 0, 'Gênero'), Text(0, 0.5, 'Issues Reportadas')]"
      ]
     },
     "execution_count": 22,
     "metadata": {},
     "output_type": "execute_result"
    },
    {
     "data": {
      "image/png": "[encoded data removed]",
      "text/plain": [
       "<Figure size 432x288 with 1 Axes>"
      ]
     },
     "metadata": {
      "needs_background": "light"
     },
     "output_type": "display_data"
    }
   ],
   "source": [
    "sns.set_palette(sns.color_palette(\"rocket\", 1))\n",
    "sns.histplot(data=dadosIssues, x='Genero').set(xlabel='Gênero', ylabel='Issues Reportadas')"
   ]
  },
  {
   "cell_type": "code",
   "execution_count": 23,
   "id": "d48c6fb0",
   "metadata": {},
   "outputs": [
    {
     "name": "stdout",
     "output_type": "stream",
     "text": [
      "Número de Issues Feitas por Homens: 0\n",
      "Número de Issues Feitas por Mulheres: 0\n"
     ]
    }
   ],
   "source": [
    "dadosIssues = dadosIssues[214::]\n",
    "issuesHomens = int(dadosIssues[dadosIssues['Genero'] == 'male'][['NumeroIssue']].count())\n",
    "issuesMulheres = int(dadosIssues[dadosIssues['Genero'] == 'female'][['NumeroIssue']].count())\n",
    "\n",
    "print('Número de Issues Feitas por Homens: '+str(issuesHomens))\n",
    "print('Número de Issues Feitas por Mulheres: '+str(issuesMulheres))"
   ]
  },
  {
   "cell_type": "code",
   "execution_count": 24,
   "id": "c3e2acc1",
   "metadata": {},
   "outputs": [
    {
     "name": "stdout",
     "output_type": "stream",
     "text": [
      "Número de Issues Feitas por Homens: 112\n",
      "Número de Issues Feitas por Mulheres: 102\n"
     ]
    }
   ],
   "source": [
    "dadosIssues = pd.read_csv('dadosGitHubIssues.csv', index_col=None, header=0)\n",
    "dadosIssues = dadosIssues[:214]\n",
    "issuesHomens = int(dadosIssues[dadosIssues['Genero'] == 'male'][['NumeroIssue']].count())\n",
    "issuesMulheres = int(dadosIssues[dadosIssues['Genero'] == 'female'][['NumeroIssue']].count())\n",
    "\n",
    "print('Número de Issues Feitas por Homens: '+str(issuesHomens))\n",
    "print('Número de Issues Feitas por Mulheres: '+str(issuesMulheres))"
   ]
  },
  {
   "cell_type": "markdown",
   "id": "88c49f76",
   "metadata": {},
   "source": [
    "#### 🟠 **5**. Qual a diferença entre número de comentários postados por homens e mulheres?"
   ]
  },
  {
   "cell_type": "code",
   "execution_count": 25,
   "id": "c0ad8ee4",
   "metadata": {},
   "outputs": [
    {
     "name": "stdout",
     "output_type": "stream",
     "text": [
      "Número de Comentários Feitos por Homens: 0\n",
      "Número de Comentários Feitos por Mulheres: 0\n",
      "Número de Comentários Feitos sem Identificação: 0\n",
      "Número de Comentários Feitos por Bots: 0\n"
     ]
    }
   ],
   "source": [
    "comentariosHomens = int(dados[dados['Genero'] == 'male'][['RelevanciaTematica']].count())\n",
    "comentariosMulheres = int(dados[dados['Genero'] == 'female'][['RelevanciaTematica']].count())\n",
    "comentariosNone = int(dados[dados['Genero'] == 'None'][['RelevanciaTematica']].count())\n",
    "comentariosBot = int(dados[dados['Genero'] == 'bot'][['RelevanciaTematica']].count())\n",
    "\n",
    "print('Número de Comentários Feitos por Homens: '+str(comentariosHomens))\n",
    "print('Número de Comentários Feitos por Mulheres: '+str(comentariosMulheres))\n",
    "print('Número de Comentários Feitos sem Identificação: '+str(comentariosNone))\n",
    "print('Número de Comentários Feitos por Bots: '+str(comentariosBot))"
   ]
  },
  {
   "cell_type": "code",
   "execution_count": 26,
   "id": "9a30dae5",
   "metadata": {},
   "outputs": [
    {
     "data": {
      "text/plain": [
       "[Text(0.5, 0, 'Gênero'), Text(0, 0.5, 'Comentários Feitos')]"
      ]
     },
     "execution_count": 26,
     "metadata": {},
     "output_type": "execute_result"
    },
    {
     "data": {
      "image/png": "[encoded data removed]",
      "text/plain": [
       "<Figure size 432x288 with 1 Axes>"
      ]
     },
     "metadata": {
      "needs_background": "light"
     },
     "output_type": "display_data"
    }
   ],
   "source": [
    "sns.set_palette(sns.color_palette(\"rocket\", 1))\n",
    "sns.histplot(data=dados, x='Genero').set(xlabel='Gênero', ylabel='Comentários Feitos')"
   ]
  },
  {
   "cell_type": "code",
   "execution_count": 27,
   "id": "91abc889",
   "metadata": {},
   "outputs": [
    {
     "name": "stdout",
     "output_type": "stream",
     "text": [
      "Número de Comentários Feitos por Homens: 0\n",
      "Número de Comentários Feitos por Mulheres: 0\n",
      "Número de Comentários Feitos sem Identificação: 0\n",
      "Número de Comentários Feitos por Bots: 0\n"
     ]
    }
   ],
   "source": [
    "comentariosHomens = int(comunidadesAbertas[comunidadesAbertas['Genero'] == 'male'][['RelevanciaTematica']].count())\n",
    "comentariosMulheres = int(comunidadesAbertas[comunidadesAbertas['Genero'] == 'female'][['RelevanciaTematica']].count())\n",
    "comentariosNone = int(comunidadesAbertas[comunidadesAbertas['Genero'] == 'None'][['RelevanciaTematica']].count())\n",
    "comentariosBot = int(comunidadesAbertas[comunidadesAbertas['Genero'] == 'bot'][['RelevanciaTematica']].count())\n",
    "\n",
    "print('Número de Comentários Feitos por Homens: '+str(comentariosHomens))\n",
    "print('Número de Comentários Feitos por Mulheres: '+str(comentariosMulheres))\n",
    "print('Número de Comentários Feitos sem Identificação: '+str(comentariosNone))\n",
    "print('Número de Comentários Feitos por Bots: '+str(comentariosBot))"
   ]
  },
  {
   "cell_type": "code",
   "execution_count": 28,
   "id": "c84f4c4f",
   "metadata": {},
   "outputs": [
    {
     "name": "stdout",
     "output_type": "stream",
     "text": [
      "Número de Comentários Feitos por Homens: 0\n",
      "Número de Comentários Feitos por Mulheres: 0\n",
      "Número de Comentários Feitos sem Identificação: 0\n",
      "Número de Comentários Feitos por Bots: 0\n"
     ]
    }
   ],
   "source": [
    "comentariosHomens = int(comunidadesExclusivas[comunidadesExclusivas['Genero'] == 'male'][['RelevanciaTematica']].count())\n",
    "comentariosMulheres = int(comunidadesExclusivas[comunidadesExclusivas['Genero'] == 'female'][['RelevanciaTematica']].count())\n",
    "comentariosNone = int(comunidadesExclusivas[comunidadesExclusivas['Genero'] == 'None'][['RelevanciaTematica']].count())\n",
    "comentariosBot = int(comunidadesExclusivas[comunidadesExclusivas['Genero'] == 'bot'][['RelevanciaTematica']].count())\n",
    "\n",
    "print('Número de Comentários Feitos por Homens: '+str(comentariosHomens))\n",
    "print('Número de Comentários Feitos por Mulheres: '+str(comentariosMulheres))\n",
    "print('Número de Comentários Feitos sem Identificação: '+str(comentariosNone))\n",
    "print('Número de Comentários Feitos por Bots: '+str(comentariosBot))"
   ]
  }
 ],
 "metadata": {
  "kernelspec": {
   "display_name": "Python 3 (ipykernel)",
   "language": "python",
   "name": "python3"
  },
  "language_info": {
   "codemirror_mode": {
    "name": "ipython",
    "version": 3
   },
   "file_extension": ".py",
   "mimetype": "text/x-python",
   "name": "python",
   "nbconvert_exporter": "python",
   "pygments_lexer": "ipython3",
   "version": "3.8.10"
  }
 },
 "nbformat": 4,
 "nbformat_minor": 5
}
